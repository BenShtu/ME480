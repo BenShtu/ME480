{
 "cells": [
  {
   "attachments": {
    "image.png": {
     "image/png": "[encoded data removed]"
    }
   },
   "cell_type": "markdown",
   "metadata": {},
   "source": [
    "![image.png](attachment:image.png)"
   ]
  },
  {
   "cell_type": "code",
   "execution_count": null,
   "metadata": {},
   "outputs": [],
   "source": [
    "from math import *\n",
    "\n",
    "\n",
    "def f(x,y):\n",
    "    return sin(x)*cos(y)\n",
    "\n",
    "\n",
    "f(pi/4,pi/3)"
   ]
  },
  {
   "cell_type": "code",
   "execution_count": null,
   "metadata": {},
   "outputs": [],
   "source": [
    "import numpy as np\n",
    "import matplotlib\n",
    "from pylab import meshgrid,cm,imshow,contour,clabel,colorbar,axis,title,show, plot\n",
    "\n",
    "x = np.arange(-2*np.pi,2*np.pi,0.1)\n",
    "y = np.arange(-2*np.pi,2*np.pi,0.1)\n",
    "X,Y = meshgrid(x, y) # grid of point\n",
    "vf = np.vectorize(f)\n",
    "Z = vf(X, Y) # evaluation of the function on the grid\n",
    "\n",
    "im = imshow(Z,cmap=cm.RdBu) # drawing the function\n",
    "# adding the Contour lines with labels\n",
    "#cset = contour(Z,np.arange(-1,1.5,0.2),linewidths=2,cmap=cm.Set2)\n",
    "#clabel(cset,inline=True,fmt='%1.1f',fontsize=10)\n",
    "colorbar(im) # adding the colobar on the right\n",
    "# latex fashion title\n",
    "title('$f(x,y)=sin(x)cos(y)$')\n",
    "show()"
   ]
  },
  {
   "cell_type": "code",
   "execution_count": null,
   "metadata": {},
   "outputs": [],
   "source": [
    "f_x = lambda x:f(x,y=pi/3)\n",
    "\n",
    "\n",
    "f_x(pi/4)"
   ]
  },
  {
   "cell_type": "code",
   "execution_count": null,
   "metadata": {},
   "outputs": [],
   "source": [
    "x = np.arange(-2*np.pi,2*np.pi,0.1)\n",
    "vf_x = np.vectorize(f_x)\n",
    "z = vf_x(x)\n",
    "plot(x,z,'k-')\n",
    "title('$f(x)= f(x,y)|_{y=\\pi/3}=sin(x)cos(\\pi/3)$')\n",
    "show()"
   ]
  },
  {
   "cell_type": "code",
   "execution_count": null,
   "metadata": {},
   "outputs": [],
   "source": [
    "from functools import partial\n",
    "f_x = partial(f,y=pi/3)\n",
    "\n",
    "f_x(pi/4)"
   ]
  },
  {
   "cell_type": "code",
   "execution_count": null,
   "metadata": {},
   "outputs": [],
   "source": [
    "f_x = f(y=pi/3)"
   ]
  },
  {
   "cell_type": "code",
   "execution_count": null,
   "metadata": {},
   "outputs": [],
   "source": []
  }
 ],
 "metadata": {
  "kernelspec": {
   "display_name": "Python 3",
   "language": "python",
   "name": "python3"
  },
  "language_info": {
   "codemirror_mode": {
    "name": "ipython",
    "version": 3
   },
   "file_extension": ".py",
   "mimetype": "text/x-python",
   "name": "python",
   "nbconvert_exporter": "python",
   "pygments_lexer": "ipython3",
   "version": "3.7.3"
  }
 },
 "nbformat": 4,
 "nbformat_minor": 2
}
