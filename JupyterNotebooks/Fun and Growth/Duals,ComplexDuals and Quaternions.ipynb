{
 "cells": [
  {
   "cell_type": "code",
   "execution_count": 1,
   "metadata": {},
   "outputs": [],
   "source": [
    "import numpy as np"
   ]
  },
  {
   "cell_type": "markdown",
   "metadata": {},
   "source": [
    "# Duals\n",
    "check out https://www.wikiwand.com/en/Dual_number#/Differentiation"
   ]
  },
  {
   "cell_type": "code",
   "execution_count": 37,
   "metadata": {},
   "outputs": [],
   "source": [
    "class DualNumber:\n",
    "    def __init__(self, real, dual):\n",
    "        self.real = real\n",
    "        self.dual = dual\n",
    "\n",
    "    def __toDual(self,other):\n",
    "        if isinstance(other, DualNumber): return other\n",
    "        return DualNumber(other,0)\n",
    "        \n",
    "        \n",
    "    def __add__(self, other1):\n",
    "        other = self.__toDual(other1)\n",
    "        return DualNumber(self.real + other.real,\n",
    "                          self.dual + other.dual)\n",
    "    __radd__ = __add__\n",
    "\n",
    "    def __sub__(self, other1):\n",
    "        other = self.__toDual(other1)\n",
    "        return DualNumber(self.real - other.real,\n",
    "                          self.dual - other.dual)\n",
    "\n",
    "    def __rsub__(self, other):\n",
    "        return DualNumber(other, 0) - self\n",
    "\n",
    "    def __mul__(self, other1):\n",
    "        other = self.__toDual(other1)\n",
    "        return DualNumber(self.real * other.real,\n",
    "                          self.real * other.dual + self.dual * other.real)\n",
    "\n",
    "    __rmul__ = __mul__\n",
    "\n",
    "    def __truediv__(self, other1):\n",
    "        other = self.__toDual(other1)\n",
    "        return DualNumber(self.real/other.real,\n",
    "                          (self.dual*other.real - self.real*other.dual)/(other.real**2))\n",
    "\n",
    "    def __rtruediv__(self, other1):\n",
    "        other = self.__toDual(other1)\n",
    "        return other/self\n",
    "\n",
    "    def __pow__(self, other):\n",
    "        return DualNumber(self.real**other,\n",
    "                          self.dual * other * self.real**(other - 1))\n",
    "\n",
    "    def conj(self):\n",
    "        if not isinstance(self.real,bool) and not isinstance(self.real,int) and not isinstance(self.real,float):\n",
    "            return DualNumber(self.real,-self.dual)\n",
    "        elif sinstance(self.real,complex):\n",
    "            return DualNumber(self.real.conjugate(),-self.dual.conjugate())\n",
    "        return DualNumber(self.real.conjugate,-self.dual.conjugate)\n",
    "    \n",
    "    def __repr__(self):\n",
    "        return repr(self.real) + ' + ' + repr(self.dual) + '*'+'\\u03B5'"
   ]
  },
  {
   "cell_type": "code",
   "execution_count": 6,
   "metadata": {},
   "outputs": [
    {
     "data": {
      "text/plain": [
       "0 + 10*ε"
      ]
     },
     "execution_count": 6,
     "metadata": {},
     "output_type": "execute_result"
    }
   ],
   "source": [
    "DualNumber(0,10)"
   ]
  },
  {
   "cell_type": "code",
   "execution_count": 32,
   "metadata": {},
   "outputs": [
    {
     "data": {
      "text/plain": [
       "<function complex.conjugate>"
      ]
     },
     "execution_count": 32,
     "metadata": {},
     "output_type": "execute_result"
    }
   ],
   "source": [
    "complex(\"1+j\").conjugate"
   ]
  },
  {
   "cell_type": "code",
   "execution_count": 7,
   "metadata": {},
   "outputs": [
    {
     "data": {
      "text/plain": [
       "0 + 0*ε"
      ]
     },
     "execution_count": 7,
     "metadata": {},
     "output_type": "execute_result"
    }
   ],
   "source": [
    "DualNumber(0,10)*DualNumber(0,10)"
   ]
  },
  {
   "cell_type": "code",
   "execution_count": 8,
   "metadata": {},
   "outputs": [
    {
     "data": {
      "text/plain": [
       "1 + 50*ε"
      ]
     },
     "execution_count": 8,
     "metadata": {},
     "output_type": "execute_result"
    }
   ],
   "source": [
    "DualNumber(1,10)**5"
   ]
  },
  {
   "cell_type": "code",
   "execution_count": 9,
   "metadata": {},
   "outputs": [
    {
     "data": {
      "text/plain": [
       "1.0 + 0.0*ε"
      ]
     },
     "execution_count": 9,
     "metadata": {},
     "output_type": "execute_result"
    }
   ],
   "source": [
    "DualNumber(1,10)/DualNumber(1,10)"
   ]
  },
  {
   "cell_type": "code",
   "execution_count": 10,
   "metadata": {},
   "outputs": [
    {
     "data": {
      "text/plain": [
       "0 + 0*ε"
      ]
     },
     "execution_count": 10,
     "metadata": {},
     "output_type": "execute_result"
    }
   ],
   "source": [
    "A = DualNumber(1,10)\n",
    "B = DualNumber(0,10)\n",
    "A*B\n",
    "B**2"
   ]
  },
  {
   "cell_type": "markdown",
   "metadata": {},
   "source": [
    "# Quaternions\n",
    "\n",
    "install pyquaternion if you havent already, just run the next block as code in the notebook"
   ]
  },
  {
   "cell_type": "raw",
   "metadata": {},
   "source": [
    "import sys\n",
    "!{sys.executable} -m pip install pyquaternion"
   ]
  },
  {
   "cell_type": "code",
   "execution_count": 30,
   "metadata": {},
   "outputs": [],
   "source": [
    "import numpy as np\n",
    "np.set_printoptions(suppress=True)\n",
    "from pyquaternion import Quaternion"
   ]
  },
  {
   "cell_type": "code",
   "execution_count": 12,
   "metadata": {},
   "outputs": [
    {
     "name": "stdout",
     "output_type": "stream",
     "text": [
      "0.000 +1.000i +0.000j +0.000k\n"
     ]
    }
   ],
   "source": [
    "q1 = Quaternion(axis=[1, 0, 0], angle=np.pi)\n",
    "print(q1)"
   ]
  },
  {
   "cell_type": "code",
   "execution_count": 13,
   "metadata": {},
   "outputs": [
    {
     "name": "stdout",
     "output_type": "stream",
     "text": [
      "0.707 +0.000i +0.707j +0.000k\n"
     ]
    }
   ],
   "source": [
    "q2 = Quaternion(axis=[0, 1, 0], angle=np.pi/ 2) \n",
    "print(q2)"
   ]
  },
  {
   "cell_type": "code",
   "execution_count": 14,
   "metadata": {},
   "outputs": [
    {
     "name": "stdout",
     "output_type": "stream",
     "text": [
      "0.000 +0.707i +0.000j +0.707k\n"
     ]
    }
   ],
   "source": [
    "q3 = q1 * q2\n",
    "print(q3)"
   ]
  },
  {
   "cell_type": "code",
   "execution_count": 35,
   "metadata": {},
   "outputs": [
    {
     "data": {
      "text/plain": [
       "Quaternion(4.329780281177467e-17, -0.7071067811865476, -4.329780281177467e-17, -0.7071067811865476)"
      ]
     },
     "execution_count": 35,
     "metadata": {},
     "output_type": "execute_result"
    }
   ],
   "source": [
    "q3.conjugate"
   ]
  },
  {
   "cell_type": "code",
   "execution_count": 15,
   "metadata": {},
   "outputs": [
    {
     "data": {
      "text/plain": [
       "array([1., 0., 0.])"
      ]
     },
     "execution_count": 15,
     "metadata": {},
     "output_type": "execute_result"
    }
   ],
   "source": [
    "v = np.array([0., 0., 1.])\n",
    "q3.rotate(v)"
   ]
  },
  {
   "cell_type": "code",
   "execution_count": 16,
   "metadata": {},
   "outputs": [
    {
     "data": {
      "text/plain": [
       "array([[ 0.,  0.,  1.],\n",
       "       [ 0., -1.,  0.],\n",
       "       [ 1.,  0.,  0.]])"
      ]
     },
     "execution_count": 16,
     "metadata": {},
     "output_type": "execute_result"
    }
   ],
   "source": [
    "q3.rotation_matrix"
   ]
  },
  {
   "cell_type": "code",
   "execution_count": 17,
   "metadata": {},
   "outputs": [
    {
     "data": {
      "text/plain": [
       "array([[ 0.,  0.,  1.,  0.],\n",
       "       [ 0., -1.,  0.,  0.],\n",
       "       [ 1.,  0.,  0.,  0.],\n",
       "       [ 0.,  0.,  0.,  1.]])"
      ]
     },
     "execution_count": 17,
     "metadata": {},
     "output_type": "execute_result"
    }
   ],
   "source": [
    "q3.transformation_matrix"
   ]
  },
  {
   "cell_type": "markdown",
   "metadata": {},
   "source": [
    "# Dual Quaternions\n",
    "If you really want to blow your mind check out Dual quaternions and try it\n",
    "https://www.wikiwand.com/en/Dual_quaternion\n",
    "https://www.euclideanspace.com/maths/algebra/realNormedAlgebra/other/dualQuaternion/index.htm"
   ]
  },
  {
   "cell_type": "code",
   "execution_count": 42,
   "metadata": {},
   "outputs": [
    {
     "name": "stdout",
     "output_type": "stream",
     "text": [
      "Quaternion(1.0, 0.0, 0.0, 0.0) + Quaternion(1.0, 1.0, 0.0, 0.0)*ε\n",
      "Quaternion(1.0, 0.0, 0.0, 0.0) + Quaternion(0.0, 10.0, 10.0, 0.0)*ε\n"
     ]
    },
    {
     "data": {
      "text/plain": [
       "Quaternion(1.0, 0.0, 0.0, 0.0) + Quaternion(1.0, 1.0, 0.0, 0.0)*ε"
      ]
     },
     "execution_count": 42,
     "metadata": {},
     "output_type": "execute_result"
    }
   ],
   "source": [
    "P_start = [1,0,0]\n",
    "Q_start = Quaternion([1]+P_start)\n",
    "DQ_start = DualNumber(Quaternion(),Q_start)\n",
    "print(DQ_start)\n",
    "\n",
    "TranslateQ =  Quaternion([0,10,10,0])\n",
    "TranslateDQ = DualNumber(Quaternion(),TranslateQ)\n",
    "print(TranslateDQ)\n",
    "\n",
    "RotateDQ = DualNumber(q2,Quaternion())\n",
    "\n",
    "TranslateDQ*DQ_start*TranslateDQ.conj()\n",
    "\n",
    "#RotateDQ*TranslateDQ*DQ_start*TranslateDQ.conj()*RotateDQ.conj()"
   ]
  },
  {
   "cell_type": "markdown",
   "metadata": {},
   "source": [
    "Thats odd, AbA* should give you the transform. but itdoesnt.\n",
    "\n",
    "the issue is that you need e to anticommute with i,j,k . To do that you need to make a new multiplication rule"
   ]
  },
  {
   "cell_type": "code",
   "execution_count": null,
   "metadata": {},
   "outputs": [],
   "source": []
  }
 ],
 "metadata": {
  "kernelspec": {
   "display_name": "Python 3",
   "language": "python",
   "name": "python3"
  },
  "language_info": {
   "codemirror_mode": {
    "name": "ipython",
    "version": 3
   },
   "file_extension": ".py",
   "mimetype": "text/x-python",
   "name": "python",
   "nbconvert_exporter": "python",
   "pygments_lexer": "ipython3",
   "version": "3.7.3"
  }
 },
 "nbformat": 4,
 "nbformat_minor": 2
}
