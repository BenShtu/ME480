{
 "cells": [
  {
   "cell_type": "code",
   "execution_count": 94,
   "metadata": {},
   "outputs": [],
   "source": [
    "import numpy as np"
   ]
  },
  {
   "cell_type": "code",
   "execution_count": 95,
   "metadata": {},
   "outputs": [],
   "source": [
    "class DualNumber:\n",
    "    def __init__(self, real, dual):\n",
    "        self.real = real\n",
    "        self.dual = dual\n",
    "\n",
    "    def __toDual(self,other):\n",
    "        if isinstance(other, DualNumber): return other\n",
    "        return DualNumber(other,0)\n",
    "        \n",
    "        \n",
    "    def __add__(self, other1):\n",
    "        other = self.__toDual(other1)\n",
    "        return DualNumber(self.real + other.real,\n",
    "                          self.dual + other.dual)\n",
    "    __radd__ = __add__\n",
    "\n",
    "    def __sub__(self, other1):\n",
    "        other = self.__toDual(other1)\n",
    "        return DualNumber(self.real - other.real,\n",
    "                          self.dual - other.dual)\n",
    "\n",
    "    def __rsub__(self, other):\n",
    "        return DualNumber(other, 0) - self\n",
    "\n",
    "    def __mul__(self, other1):\n",
    "        if isinstance(other1,ComplexDualNumber): return other1.__rmul__(self)\n",
    "        other = self.__toDual(other1)\n",
    "        return DualNumber(self.real * other.real,\n",
    "                          self.real * other.dual + self.dual * other.real)\n",
    "\n",
    "    __rmul__ = __mul__\n",
    "\n",
    "    def __truediv__(self, other1):\n",
    "        other = self.__toDual(other1)\n",
    "        return DualNumber(self.real/other.real,\n",
    "                          (self.dual*other.real - self.real*other.dual)/(other.real**2))\n",
    "\n",
    "    def __rtruediv__(self, other1):\n",
    "        other = self.__toDual(other1)\n",
    "        return other/self\n",
    "\n",
    "    def __pow__(self, other):\n",
    "        return DualNumber(self.real**other,\n",
    "                          self.dual * other * self.real**(other - 1))\n",
    "\n",
    "    def __repr__(self):\n",
    "        return repr(self.real) + ' + ' + repr(self.dual) + '*'+'\\u03B5'"
   ]
  },
  {
   "cell_type": "code",
   "execution_count": 96,
   "metadata": {},
   "outputs": [
    {
     "data": {
      "text/plain": [
       "0 + 10*ε"
      ]
     },
     "execution_count": 96,
     "metadata": {},
     "output_type": "execute_result"
    }
   ],
   "source": [
    "DualNumber(0,10)"
   ]
  },
  {
   "cell_type": "code",
   "execution_count": 97,
   "metadata": {},
   "outputs": [
    {
     "data": {
      "text/plain": [
       "0 + 0*ε"
      ]
     },
     "execution_count": 97,
     "metadata": {},
     "output_type": "execute_result"
    }
   ],
   "source": [
    "DualNumber(0,10)*DualNumber(0,10)"
   ]
  },
  {
   "cell_type": "code",
   "execution_count": 98,
   "metadata": {},
   "outputs": [
    {
     "data": {
      "text/plain": [
       "1 + 50*ε"
      ]
     },
     "execution_count": 98,
     "metadata": {},
     "output_type": "execute_result"
    }
   ],
   "source": [
    "DualNumber(1,10)**5"
   ]
  },
  {
   "cell_type": "code",
   "execution_count": 99,
   "metadata": {},
   "outputs": [
    {
     "data": {
      "text/plain": [
       "1.0 + 0.0*ε"
      ]
     },
     "execution_count": 99,
     "metadata": {},
     "output_type": "execute_result"
    }
   ],
   "source": [
    "DualNumber(1,10)/DualNumber(1,10)"
   ]
  },
  {
   "cell_type": "code",
   "execution_count": 108,
   "metadata": {},
   "outputs": [
    {
     "data": {
      "text/plain": [
       "0 + 0*ε"
      ]
     },
     "execution_count": 108,
     "metadata": {},
     "output_type": "execute_result"
    }
   ],
   "source": [
    "A = DualNumber(1,10)\n",
    "B = DualNumber(0,10)\n",
    "A*B\n",
    "B**2"
   ]
  },
  {
   "cell_type": "code",
   "execution_count": 2,
   "metadata": {},
   "outputs": [
    {
     "name": "stdout",
     "output_type": "stream",
     "text": [
      "Collecting pyquaternion\n",
      "  Downloading https://files.pythonhosted.org/packages/49/b3/d8482e8cacc8ea15a356efea13d22ce1c5914a9ee36622ba250523240bf2/pyquaternion-0.9.9-py3-none-any.whl\n",
      "Requirement already satisfied: numpy in c:\\programdata\\anaconda3\\lib\\site-packages (from pyquaternion) (1.16.4)\n",
      "Installing collected packages: pyquaternion\n",
      "Successfully installed pyquaternion-0.9.9\n"
     ]
    }
   ],
   "source": [
    "# install pyquaternion if you havent already, just uncomment the next 2 lines\n",
    "#import sys\n",
    "#!{sys.executable} -m pip install pyquaternion"
   ]
  },
  {
   "cell_type": "code",
   "execution_count": 15,
   "metadata": {},
   "outputs": [],
   "source": [
    "import numpy as np\n",
    "np.set_printoptions(suppress=True)\n",
    "from pyquaternion import Quaternion"
   ]
  },
  {
   "cell_type": "code",
   "execution_count": 16,
   "metadata": {},
   "outputs": [
    {
     "name": "stdout",
     "output_type": "stream",
     "text": [
      "0.000 +1.000i +0.000j +0.000k\n"
     ]
    }
   ],
   "source": [
    "q1 = Quaternion(axis=[1, 0, 0], angle=np.pi)\n",
    "print(q1)"
   ]
  },
  {
   "cell_type": "code",
   "execution_count": 17,
   "metadata": {},
   "outputs": [
    {
     "name": "stdout",
     "output_type": "stream",
     "text": [
      "0.707 +0.000i +0.707j +0.000k\n"
     ]
    }
   ],
   "source": [
    "q2 = Quaternion(axis=[0, 1, 0], angle=np.pi/ 2) \n",
    "print(q2)"
   ]
  },
  {
   "cell_type": "code",
   "execution_count": 18,
   "metadata": {},
   "outputs": [
    {
     "name": "stdout",
     "output_type": "stream",
     "text": [
      "0.000 +0.707i +0.000j +0.707k\n"
     ]
    }
   ],
   "source": [
    "q3 = q1 * q2\n",
    "print(q3)"
   ]
  },
  {
   "cell_type": "code",
   "execution_count": 19,
   "metadata": {},
   "outputs": [
    {
     "data": {
      "text/plain": [
       "array([1., 0., 0.])"
      ]
     },
     "execution_count": 19,
     "metadata": {},
     "output_type": "execute_result"
    }
   ],
   "source": [
    "v = np.array([0., 0., 1.])\n",
    "q3.rotate(v)"
   ]
  },
  {
   "cell_type": "code",
   "execution_count": 20,
   "metadata": {},
   "outputs": [
    {
     "data": {
      "text/plain": [
       "array([[ 0.,  0.,  1.],\n",
       "       [ 0., -1.,  0.],\n",
       "       [ 1.,  0.,  0.]])"
      ]
     },
     "execution_count": 20,
     "metadata": {},
     "output_type": "execute_result"
    }
   ],
   "source": [
    "q3.rotation_matrix"
   ]
  },
  {
   "cell_type": "code",
   "execution_count": 21,
   "metadata": {},
   "outputs": [
    {
     "data": {
      "text/plain": [
       "array([[ 0.,  0.,  1.,  0.],\n",
       "       [ 0., -1.,  0.,  0.],\n",
       "       [ 1.,  0.,  0.,  0.],\n",
       "       [ 0.,  0.,  0.,  1.]])"
      ]
     },
     "execution_count": 21,
     "metadata": {},
     "output_type": "execute_result"
    }
   ],
   "source": [
    "q3.transformation_matrix"
   ]
  },
  {
   "cell_type": "code",
   "execution_count": null,
   "metadata": {},
   "outputs": [],
   "source": []
  }
 ],
 "metadata": {
  "kernelspec": {
   "display_name": "Python 3",
   "language": "python",
   "name": "python3"
  },
  "language_info": {
   "codemirror_mode": {
    "name": "ipython",
    "version": 3
   },
   "file_extension": ".py",
   "mimetype": "text/x-python",
   "name": "python",
   "nbconvert_exporter": "python",
   "pygments_lexer": "ipython3",
   "version": "3.7.3"
  }
 },
 "nbformat": 4,
 "nbformat_minor": 2
}
