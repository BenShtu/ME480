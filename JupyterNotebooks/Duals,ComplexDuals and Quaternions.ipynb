{
 "cells": [
  {
   "cell_type": "code",
   "execution_count": 94,
   "metadata": {},
   "outputs": [],
   "source": [
    "import numpy as np"
   ]
  },
  {
   "cell_type": "code",
   "execution_count": 95,
   "metadata": {},
   "outputs": [],
   "source": [
    "class DualNumber:\n",
    "    def __init__(self, real, dual):\n",
    "        self.real = real\n",
    "        self.dual = dual\n",
    "\n",
    "    def __toDual(self,other):\n",
    "        if isinstance(other, DualNumber): return other\n",
    "        return DualNumber(other,0)\n",
    "        \n",
    "        \n",
    "    def __add__(self, other1):\n",
    "        other = self.__toDual(other1)\n",
    "        return DualNumber(self.real + other.real,\n",
    "                          self.dual + other.dual)\n",
    "    __radd__ = __add__\n",
    "\n",
    "    def __sub__(self, other1):\n",
    "        other = self.__toDual(other1)\n",
    "        return DualNumber(self.real - other.real,\n",
    "                          self.dual - other.dual)\n",
    "\n",
    "    def __rsub__(self, other):\n",
    "        return DualNumber(other, 0) - self\n",
    "\n",
    "    def __mul__(self, other1):\n",
    "        if isinstance(other1,ComplexDualNumber): return other1.__rmul__(self)\n",
    "        other = self.__toDual(other1)\n",
    "        return DualNumber(self.real * other.real,\n",
    "                          self.real * other.dual + self.dual * other.real)\n",
    "\n",
    "    __rmul__ = __mul__\n",
    "\n",
    "    def __truediv__(self, other1):\n",
    "        other = self.__toDual(other1)\n",
    "        return DualNumber(self.real/other.real,\n",
    "                          (self.dual*other.real - self.real*other.dual)/(other.real**2))\n",
    "\n",
    "    def __rtruediv__(self, other1):\n",
    "        other = self.__toDual(other1)\n",
    "        return other/self\n",
    "\n",
    "    def __pow__(self, other):\n",
    "        return DualNumber(self.real**other,\n",
    "                          self.dual * other * self.real**(other - 1))\n",
    "\n",
    "    def __repr__(self):\n",
    "        return repr(self.real) + ' + ' + repr(self.dual) + '*'+'\\u03B5'"
   ]
  },
  {
   "cell_type": "code",
   "execution_count": 96,
   "metadata": {},
   "outputs": [
    {
     "data": {
      "text/plain": [
       "0 + 10*ε"
      ]
     },
     "execution_count": 96,
     "metadata": {},
     "output_type": "execute_result"
    }
   ],
   "source": [
    "DualNumber(0,10)"
   ]
  },
  {
   "cell_type": "code",
   "execution_count": 97,
   "metadata": {},
   "outputs": [
    {
     "data": {
      "text/plain": [
       "0 + 0*ε"
      ]
     },
     "execution_count": 97,
     "metadata": {},
     "output_type": "execute_result"
    }
   ],
   "source": [
    "DualNumber(0,10)*DualNumber(0,10)"
   ]
  },
  {
   "cell_type": "code",
   "execution_count": 98,
   "metadata": {},
   "outputs": [
    {
     "data": {
      "text/plain": [
       "1 + 50*ε"
      ]
     },
     "execution_count": 98,
     "metadata": {},
     "output_type": "execute_result"
    }
   ],
   "source": [
    "DualNumber(1,10)**5"
   ]
  },
  {
   "cell_type": "code",
   "execution_count": 99,
   "metadata": {},
   "outputs": [
    {
     "data": {
      "text/plain": [
       "1.0 + 0.0*ε"
      ]
     },
     "execution_count": 99,
     "metadata": {},
     "output_type": "execute_result"
    }
   ],
   "source": [
    "DualNumber(1,10)/DualNumber(1,10)"
   ]
  },
  {
   "cell_type": "code",
   "execution_count": 108,
   "metadata": {},
   "outputs": [
    {
     "data": {
      "text/plain": [
       "0 + 0*ε"
      ]
     },
     "execution_count": 108,
     "metadata": {},
     "output_type": "execute_result"
    }
   ],
   "source": [
    "A = DualNumber(1,10)\n",
    "B = DualNumber(0,10)\n",
    "A*B\n",
    "B**2"
   ]
  },
  {
   "cell_type": "code",
   "execution_count": 116,
   "metadata": {},
   "outputs": [],
   "source": [
    "class ComplexDualNumber:\n",
    "    def __init__(self, real,imag, dual,imdual):\n",
    "        self.real = real\n",
    "        self.imag = imag\n",
    "        self.dual = dual\n",
    "        self.imdual = imdual\n",
    "\n",
    "    def __toComplexDual(self,other):\n",
    "            if isinstance(other, ComplexDualNumber):\n",
    "                return other\n",
    "            elif isinstance(other,type(complex('j'))):\n",
    "                return ComplexDualNumber(other.real, other.imag,0,0)\n",
    "            elif isinstance(other,DualNumber):\n",
    "                return ComplexDualNumber(other.real,0, other.dual,0)\n",
    "            return ComplexDualNumber(self.real + other,self.imag, self.dual,self.imdual)\n",
    "        \n",
    "        \n",
    "    def __add__(self, other1):\n",
    "        other = self.__toComplexDual(other1)\n",
    "        return ComplexDualNumber(self.real + other.real,\n",
    "                          self.imag + other.imag,\n",
    "                          self.dual + other.dual,\n",
    "                          self.imdual + other.imdual\n",
    "                         )\n",
    "    __radd__ = __add__\n",
    "\n",
    "    def __sub__(self, other1):\n",
    "        other = self.__toComplexDual(other1)\n",
    "        return ComplexDualNumber(self.real - other.real,\n",
    "                          self.imag - other.imag,\n",
    "                          self.dual - other.dual,\n",
    "                          self.imdual - other.imdual\n",
    "                         )\n",
    "\n",
    "    def __rsub__(self, other1):\n",
    "        other = self.__toComplexDual(other1)\n",
    "        return other - self\n",
    "\n",
    "    def __mul__(self, other1):        \n",
    "        other = self.__toComplexDual(other1)\n",
    "        return ComplexDualNumber(\n",
    "                self.real * other.real - self.imag * other.imag,\n",
    "                self.real * other.imag + self.imag * other.real,\n",
    "                self.dual*other.real + self.imdual*other.imag + self.real*other.dual - self.imag*other.imdual,\n",
    "                self.imdual*other.real - self.dual*other.imag + self.imag*other.dual + self.real*other.imdual\n",
    "                )\n",
    "    __rmul__ = __mul__\n",
    "\n",
    "    def __pow__(self, other):\n",
    "        if isinstance(other,int) and other>0:\n",
    "            new = self\n",
    "            for i in range(1,other):\n",
    "                new = self*new\n",
    "            return new\n",
    "\n",
    "    def conjugate(self):\n",
    "        return ComplexDualNumber(self.real,-self.imag,-self.dual,-self.imdual)\n",
    "        \n",
    "    def __repr__(self):\n",
    "        return repr(self.real) + ' + ' + repr(self.imag)+'i'+' + ' +repr(self.dual) + '\\u03B5' +' + ' + repr(self.imdual) +'i\\u03B5'"
   ]
  },
  {
   "cell_type": "code",
   "execution_count": 101,
   "metadata": {},
   "outputs": [
    {
     "data": {
      "text/plain": [
       "1 + 0i + 7ε + 7iε"
      ]
     },
     "execution_count": 101,
     "metadata": {},
     "output_type": "execute_result"
    }
   ],
   "source": [
    "ComplexDualNumber(1,0,3,4)*ComplexDualNumber(1,0,4,3)"
   ]
  },
  {
   "cell_type": "markdown",
   "metadata": {},
   "source": [
    "https://www.euclideanspace.com/maths/algebra/realNormedAlgebra/other/dualComplex/index.htm"
   ]
  },
  {
   "attachments": {
    "image.png": {
     "image/png": "[encoded data removed]"
    }
   },
   "cell_type": "markdown",
   "metadata": {},
   "source": [
    "![image.png](attachment:image.png)"
   ]
  },
  {
   "cell_type": "code",
   "execution_count": 109,
   "metadata": {},
   "outputs": [
    {
     "data": {
      "text/plain": [
       "0 + 1i + -7ε + 7iε"
      ]
     },
     "execution_count": 109,
     "metadata": {},
     "output_type": "execute_result"
    }
   ],
   "source": [
    "ComplexDualNumber(0,1,0,0)*ComplexDualNumber(1,0,7,7)"
   ]
  },
  {
   "cell_type": "code",
   "execution_count": 89,
   "metadata": {},
   "outputs": [
    {
     "data": {
      "text/plain": [
       "1 + 0i + 17ε + 7iε"
      ]
     },
     "execution_count": 89,
     "metadata": {},
     "output_type": "execute_result"
    }
   ],
   "source": [
    "ComplexDualNumber(1,0,7,7)*DualNumber(1,10)"
   ]
  },
  {
   "cell_type": "code",
   "execution_count": 90,
   "metadata": {},
   "outputs": [
    {
     "data": {
      "text/plain": [
       "1 + 0i + 17ε + 7iε"
      ]
     },
     "execution_count": 90,
     "metadata": {},
     "output_type": "execute_result"
    }
   ],
   "source": [
    "DualNumber(1,10)*ComplexDualNumber(1,0,7,7)"
   ]
  },
  {
   "cell_type": "code",
   "execution_count": 88,
   "metadata": {},
   "outputs": [
    {
     "data": {
      "text/plain": [
       "1 + 0i + 17ε + 7iε"
      ]
     },
     "execution_count": 88,
     "metadata": {},
     "output_type": "execute_result"
    }
   ],
   "source": [
    "ComplexDualNumber(1,0,7,7)*ComplexDualNumber(1,0,10,0)"
   ]
  },
  {
   "cell_type": "code",
   "execution_count": 117,
   "metadata": {},
   "outputs": [
    {
     "data": {
      "text/plain": [
       "1 + 0i + -10ε + 0iε"
      ]
     },
     "execution_count": 117,
     "metadata": {},
     "output_type": "execute_result"
    }
   ],
   "source": [
    "ComplexDualNumber(1,0,10,0).conjugate()"
   ]
  },
  {
   "cell_type": "code",
   "execution_count": 122,
   "metadata": {},
   "outputs": [],
   "source": [
    "def cdToPt(cd):\n",
    "    x = cd.dual\n",
    "    y = cd.imdual\n",
    "    return np.array([x,y])\n",
    "\n",
    "def ptToCd(pt):\n",
    "    return ComplexDualNumber(1,0,pt[0],pt[1])\n",
    "\n",
    "def CDRotateAngle(theta):\n",
    "    c = np.cos(theta)\n",
    "    s = np.sin(theta)\n",
    "    return ComplexDualNumber(c,s,0,0)\n",
    "\n",
    "def CDTranslate(D):\n",
    "    return ComplexDualNumber(1,0,D[0],D[1])\n"
   ]
  },
  {
   "cell_type": "code",
   "execution_count": 123,
   "metadata": {},
   "outputs": [
    {
     "data": {
      "text/plain": [
       "array([7, 7])"
      ]
     },
     "execution_count": 123,
     "metadata": {},
     "output_type": "execute_result"
    }
   ],
   "source": [
    "cdToPt(ComplexDualNumber(1,0,7,7))"
   ]
  },
  {
   "cell_type": "code",
   "execution_count": 124,
   "metadata": {},
   "outputs": [
    {
     "data": {
      "text/plain": [
       "1 + 0i + 7ε + 7iε"
      ]
     },
     "execution_count": 124,
     "metadata": {},
     "output_type": "execute_result"
    }
   ],
   "source": [
    "ptToCd((7,7))"
   ]
  },
  {
   "cell_type": "code",
   "execution_count": 129,
   "metadata": {},
   "outputs": [
    {
     "data": {
      "text/plain": [
       "6.123233995736766e-17 + 1.0i + -7.0ε + 7.0iε"
      ]
     },
     "execution_count": 129,
     "metadata": {},
     "output_type": "execute_result"
    }
   ],
   "source": [
    "CDRotateAngle(np.pi/2)*ptToCd((7,7))"
   ]
  },
  {
   "cell_type": "code",
   "execution_count": 178,
   "metadata": {},
   "outputs": [],
   "source": [
    "def CDRotateAroundPoint(theta,D):\n",
    "    d = np.array(D)\n",
    "    T = CDTranslate(d)\n",
    "    Tinv = CDTranslate(-d)\n",
    "    R = CDRotateAngle(theta)\n",
    "    return T*R*Tinv"
   ]
  },
  {
   "cell_type": "code",
   "execution_count": 198,
   "metadata": {},
   "outputs": [
    {
     "data": {
      "text/plain": [
       "-1.0 + 1.2246467991473532e-16i + 0.0ε + -9.797174393178826e-16iε"
      ]
     },
     "execution_count": 198,
     "metadata": {},
     "output_type": "execute_result"
    }
   ],
   "source": [
    "theta = np.pi\n",
    "D = [4,0]\n",
    "CDRotateAroundPoint(theta,D)"
   ]
  },
  {
   "cell_type": "code",
   "execution_count": 199,
   "metadata": {},
   "outputs": [
    {
     "data": {
      "text/plain": [
       "-1.0 + 1.2246467991473532e-16i + -10.0ε + 2.449293598294707e-16iε"
      ]
     },
     "execution_count": 199,
     "metadata": {},
     "output_type": "execute_result"
    }
   ],
   "source": [
    "CDRotateAroundPoint(theta,D)*ptToCd((10,0))"
   ]
  },
  {
   "cell_type": "code",
   "execution_count": 186,
   "metadata": {},
   "outputs": [
    {
     "data": {
      "text/plain": [
       "1.0"
      ]
     },
     "execution_count": 186,
     "metadata": {},
     "output_type": "execute_result"
    }
   ],
   "source": [
    "np.sin(np.pi/2)"
   ]
  },
  {
   "cell_type": "code",
   "execution_count": null,
   "metadata": {},
   "outputs": [],
   "source": []
  },
  {
   "cell_type": "code",
   "execution_count": null,
   "metadata": {},
   "outputs": [],
   "source": []
  }
 ],
 "metadata": {
  "kernelspec": {
   "display_name": "Python 3",
   "language": "python",
   "name": "python3"
  },
  "language_info": {
   "codemirror_mode": {
    "name": "ipython",
    "version": 3
   },
   "file_extension": ".py",
   "mimetype": "text/x-python",
   "name": "python",
   "nbconvert_exporter": "python",
   "pygments_lexer": "ipython3",
   "version": "3.7.3"
  }
 },
 "nbformat": 4,
 "nbformat_minor": 2
}
