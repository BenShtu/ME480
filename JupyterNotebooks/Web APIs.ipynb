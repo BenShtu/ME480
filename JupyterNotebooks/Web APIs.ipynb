{
 "cells": [
  {
   "cell_type": "code",
   "execution_count": 15,
   "metadata": {},
   "outputs": [],
   "source": [
    "import requests\n",
    "\n",
    "URL = \"http://localhost:5000/todo/tasks\"\n",
    "r = requests.get(url=URL)"
   ]
  },
  {
   "cell_type": "code",
   "execution_count": 16,
   "metadata": {},
   "outputs": [
    {
     "name": "stdout",
     "output_type": "stream",
     "text": [
      "{\n",
      "  \"tasks\": [\n",
      "    {\n",
      "      \"description\": \"Soylent Green, Soylent Brown, Soylent Red\", \n",
      "      \"done\": true, \n",
      "      \"id\": 1, \n",
      "      \"title\": \"Buy groceries\"\n",
      "    }, \n",
      "    {\n",
      "      \"description\": \"get matrix port installed and have tank download it\", \n",
      "      \"done\": false, \n",
      "      \"id\": 2, \n",
      "      \"title\": \"Learn Python\"\n",
      "    }, \n",
      "    {\n",
      "      \"description\": \"\", \n",
      "      \"done\": false, \n",
      "      \"id\": 3, \n",
      "      \"title\": \"take a nap\"\n",
      "    }\n",
      "  ]\n",
      "}\n",
      "\n"
     ]
    }
   ],
   "source": [
    "print(r.text)"
   ]
  },
  {
   "cell_type": "code",
   "execution_count": 3,
   "metadata": {},
   "outputs": [
    {
     "data": {
      "text/plain": [
       "str"
      ]
     },
     "execution_count": 3,
     "metadata": {},
     "output_type": "execute_result"
    }
   ],
   "source": [
    "type(r.text)"
   ]
  },
  {
   "cell_type": "code",
   "execution_count": 4,
   "metadata": {},
   "outputs": [
    {
     "data": {
      "text/plain": [
       "dict"
      ]
     },
     "execution_count": 4,
     "metadata": {},
     "output_type": "execute_result"
    }
   ],
   "source": [
    "type(r.json())"
   ]
  },
  {
   "cell_type": "code",
   "execution_count": 5,
   "metadata": {},
   "outputs": [
    {
     "data": {
      "text/plain": [
       "'Learn Python'"
      ]
     },
     "execution_count": 5,
     "metadata": {},
     "output_type": "execute_result"
    }
   ],
   "source": [
    "r.json()['tasks'][1]['title']"
   ]
  },
  {
   "cell_type": "code",
   "execution_count": 6,
   "metadata": {},
   "outputs": [],
   "source": [
    "titles = [task['title'] for task in r.json()['tasks']]"
   ]
  },
  {
   "cell_type": "code",
   "execution_count": 7,
   "metadata": {},
   "outputs": [
    {
     "name": "stdout",
     "output_type": "stream",
     "text": [
      "['Buy groceries', 'Learn Python']\n"
     ]
    }
   ],
   "source": [
    "print(titles)"
   ]
  },
  {
   "cell_type": "code",
   "execution_count": 11,
   "metadata": {},
   "outputs": [
    {
     "name": "stdout",
     "output_type": "stream",
     "text": [
      "{\n",
      "  \"task\": {\n",
      "    \"description\": \"get matrix port installed and have tank download it\", \n",
      "    \"done\": false, \n",
      "    \"id\": 2, \n",
      "    \"title\": \"Learn Python\"\n",
      "  }\n",
      "}\n",
      "\n"
     ]
    }
   ],
   "source": [
    "URL = \"http://localhost:5000/todo/tasks/2\"\n",
    "r = requests.get(url=URL)\n",
    "print(r.text)"
   ]
  },
  {
   "cell_type": "code",
   "execution_count": 8,
   "metadata": {},
   "outputs": [
    {
     "name": "stdout",
     "output_type": "stream",
     "text": [
      "{\n",
      "  \"task\": {\n",
      "    \"description\": \"\", \n",
      "    \"done\": false, \n",
      "    \"id\": 3, \n",
      "    \"title\": \"take a nap\"\n",
      "  }\n",
      "}\n",
      "\n"
     ]
    }
   ],
   "source": [
    "data = {'title':'take a nap'}\n",
    "r = requests.post(url = URL, json=data)\n",
    "\n",
    "print(r.text)"
   ]
  },
  {
   "cell_type": "code",
   "execution_count": null,
   "metadata": {},
   "outputs": [],
   "source": []
  },
  {
   "cell_type": "code",
   "execution_count": 14,
   "metadata": {},
   "outputs": [
    {
     "name": "stdout",
     "output_type": "stream",
     "text": [
      "{\n",
      "  \"task\": {\n",
      "    \"description\": \"Soylent Green, Soylent Brown, Soylent Red\", \n",
      "    \"done\": true, \n",
      "    \"id\": 1, \n",
      "    \"title\": \"Buy groceries\"\n",
      "  }\n",
      "}\n",
      "\n"
     ]
    }
   ],
   "source": [
    "URL = \"http://localhost:5000/todo/tasks\"\n",
    "data = {'done': True, 'id': 1}\n",
    "\n",
    "r = requests.put(url=URL, json=data)\n",
    "print(r.text)"
   ]
  },
  {
   "cell_type": "code",
   "execution_count": null,
   "metadata": {},
   "outputs": [],
   "source": [
    "data = {'description': 'Soylent Green, Soylent Brown, Soylent Red',\n",
    "        'done': True,\n",
    "        'id': 1,\n",
    "        'title': 'Buy groceries'}"
   ]
  },
  {
   "cell_type": "code",
   "execution_count": 17,
   "metadata": {},
   "outputs": [
    {
     "name": "stdout",
     "output_type": "stream",
     "text": [
      "{\n",
      "  \"action\": \"done\"\n",
      "}\n",
      "\n"
     ]
    }
   ],
   "source": [
    "data = {'id':3}\n",
    "r = requests.delete(url= URL, json=data)\n",
    "print(r.text)"
   ]
  },
  {
   "cell_type": "code",
   "execution_count": null,
   "metadata": {},
   "outputs": [],
   "source": []
  }
 ],
 "metadata": {
  "kernelspec": {
   "display_name": "Python 3",
   "language": "python",
   "name": "python3"
  },
  "language_info": {
   "codemirror_mode": {
    "name": "ipython",
    "version": 3
   },
   "file_extension": ".py",
   "mimetype": "text/x-python",
   "name": "python",
   "nbconvert_exporter": "python",
   "pygments_lexer": "ipython3",
   "version": "3.7.3"
  }
 },
 "nbformat": 4,
 "nbformat_minor": 2
}
