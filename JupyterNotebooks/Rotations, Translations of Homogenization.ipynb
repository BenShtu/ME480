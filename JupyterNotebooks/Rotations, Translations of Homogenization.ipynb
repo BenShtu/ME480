{
 "cells": [
  {
   "cell_type": "code",
   "execution_count": 1,
   "metadata": {},
   "outputs": [],
   "source": [
    "import numpy as np\n",
    "import matplotlib.pyplot as plt\n",
    "%matplotlib inline"
   ]
  },
  {
   "cell_type": "markdown",
   "metadata": {},
   "source": [
    "## Integers under (+) as a group\n",
    "\n",
    "\n",
    " - Closed: $n+m \\in Z$ for all n and m $\\in Z$ \n",
    " - Associative: (N+M)+R = N+(M+R)\n",
    " - Identity: 0 is the identity element because 0+N=N\n",
    " - Inverse: -N is the inverse of N because N+(-N) = 0\n",
    " \n"
   ]
  },
  {
   "cell_type": "code",
   "execution_count": 2,
   "metadata": {},
   "outputs": [
    {
     "data": {
      "text/plain": [
       "int"
      ]
     },
     "execution_count": 2,
     "metadata": {},
     "output_type": "execute_result"
    }
   ],
   "source": [
    "type(1+5)"
   ]
  },
  {
   "cell_type": "code",
   "execution_count": 3,
   "metadata": {},
   "outputs": [
    {
     "data": {
      "text/plain": [
       "0"
      ]
     },
     "execution_count": 3,
     "metadata": {},
     "output_type": "execute_result"
    }
   ],
   "source": [
    "(1+5)+6 - (1+(5+6)) "
   ]
  },
  {
   "cell_type": "code",
   "execution_count": 4,
   "metadata": {},
   "outputs": [
    {
     "data": {
      "text/plain": [
       "5"
      ]
     },
     "execution_count": 4,
     "metadata": {},
     "output_type": "execute_result"
    }
   ],
   "source": [
    "5+0"
   ]
  },
  {
   "cell_type": "code",
   "execution_count": 5,
   "metadata": {},
   "outputs": [
    {
     "data": {
      "text/plain": [
       "0"
      ]
     },
     "execution_count": 5,
     "metadata": {},
     "output_type": "execute_result"
    }
   ],
   "source": [
    "5+(-5)"
   ]
  },
  {
   "cell_type": "markdown",
   "metadata": {},
   "source": [
    "## 2D - Rotations as 2x2 Matrices"
   ]
  },
  {
   "cell_type": "code",
   "execution_count": 6,
   "metadata": {},
   "outputs": [],
   "source": [
    "def R(theta):\n",
    "    \"Builds a 2D rotation matrix theta-> 2x2 numpy array\"\n",
    "    c = np.cos(theta)\n",
    "    s = np.sin(theta)\n",
    "    return np.array([[c,-s],\n",
    "                     [s,c]])"
   ]
  },
  {
   "cell_type": "code",
   "execution_count": 7,
   "metadata": {},
   "outputs": [
    {
     "name": "stdout",
     "output_type": "stream",
     "text": [
      "[[ 0.70710678 -0.70710678]\n",
      " [ 0.70710678  0.70710678]]\n",
      "[[ 0.8660254 -0.5      ]\n",
      " [ 0.5        0.8660254]]\n"
     ]
    },
    {
     "data": {
      "text/plain": [
       "array([[ 0.25881905, -0.96592583],\n",
       "       [ 0.96592583,  0.25881905]])"
      ]
     },
     "execution_count": 7,
     "metadata": {},
     "output_type": "execute_result"
    }
   ],
   "source": [
    "R1 = R(np.pi/4)\n",
    "R2 = R(np.pi/6)\n",
    "print(R1)\n",
    "print(R2)\n",
    "R1@R2"
   ]
  },
  {
   "cell_type": "code",
   "execution_count": 8,
   "metadata": {},
   "outputs": [
    {
     "data": {
      "text/plain": [
       "array([[ 0.25881905, -0.96592583],\n",
       "       [ 0.96592583,  0.25881905]])"
      ]
     },
     "execution_count": 8,
     "metadata": {},
     "output_type": "execute_result"
    }
   ],
   "source": [
    "R(np.pi*(1/4 +1/6))"
   ]
  },
  {
   "cell_type": "code",
   "execution_count": 9,
   "metadata": {},
   "outputs": [
    {
     "data": {
      "text/plain": [
       "array([[5.55111512e-17, 0.00000000e+00],\n",
       "       [0.00000000e+00, 5.55111512e-17]])"
      ]
     },
     "execution_count": 9,
     "metadata": {},
     "output_type": "execute_result"
    }
   ],
   "source": [
    "R3 = R(np.pi/8)\n",
    "\n",
    "(R1@R2)@R3 - R1@(R2@R3)"
   ]
  },
  {
   "cell_type": "code",
   "execution_count": 10,
   "metadata": {},
   "outputs": [
    {
     "data": {
      "text/plain": [
       "array([[0., 0.],\n",
       "       [0., 0.]])"
      ]
     },
     "execution_count": 10,
     "metadata": {},
     "output_type": "execute_result"
    }
   ],
   "source": [
    "R0 = R(0)\n",
    "R0@R1-R1"
   ]
  },
  {
   "cell_type": "code",
   "execution_count": 11,
   "metadata": {},
   "outputs": [
    {
     "data": {
      "text/plain": [
       "array([[ 1., -0.],\n",
       "       [ 0.,  1.]])"
      ]
     },
     "execution_count": 11,
     "metadata": {},
     "output_type": "execute_result"
    }
   ],
   "source": [
    "R0"
   ]
  },
  {
   "cell_type": "code",
   "execution_count": 12,
   "metadata": {},
   "outputs": [
    {
     "data": {
      "text/plain": [
       "array([[1., 0.],\n",
       "       [0., 1.]])"
      ]
     },
     "execution_count": 12,
     "metadata": {},
     "output_type": "execute_result"
    }
   ],
   "source": [
    "Rn1 = R(-np.pi/4)\n",
    "\n",
    "Rn1@R1"
   ]
  },
  {
   "cell_type": "markdown",
   "metadata": {},
   "source": [
    "### Its a group because\n",
    " - Closed: $R(\\theta_1)*R(\\theta_2) = R(\\theta_1+\\theta_2)$\n",
    " - Associative: $R(\\theta_1)* ( R(\\theta_2)*R(\\theta_3) ) = (R(\\theta_1)*R(\\theta_2))  *R(\\theta_3) $\n",
    " - Identity: 0 is the identity element because $*R(0)*R(\\theta_1)= I_2*R(\\theta_1)=R(\\theta_1) )$\n",
    " - Inverse: -N is the inverse of N because $R(\\theta_1)*R(-\\theta_1)= I_2 )$"
   ]
  },
  {
   "cell_type": "code",
   "execution_count": 13,
   "metadata": {},
   "outputs": [],
   "source": [
    "P_start = np.array([5,5])"
   ]
  },
  {
   "cell_type": "code",
   "execution_count": 14,
   "metadata": {},
   "outputs": [],
   "source": [
    "P_end = R1@P_start"
   ]
  },
  {
   "cell_type": "code",
   "execution_count": 15,
   "metadata": {},
   "outputs": [
    {
     "data": {
      "image/png": "[encoded data removed]",
      "text/plain": [
       "<Figure size 432x288 with 1 Axes>"
      ]
     },
     "metadata": {
      "needs_background": "light"
     },
     "output_type": "display_data"
    }
   ],
   "source": [
    "fig, ax = plt.subplots()\n",
    "ax.plot(P_start[0],P_start[1],\"ko\")\n",
    "ax.plot(P_end[0],P_end[1],\"bo\")\n",
    "#plt.axis('equal')\n",
    "ax.grid()\n",
    "ax.set_xlim(-10,10)\n",
    "ax.set_ylim(-10,10)\n",
    "ax.axhline(y=0, color='k')\n",
    "ax.axvline(x=0, color='k')\n",
    "plt.show()"
   ]
  },
  {
   "cell_type": "markdown",
   "metadata": {},
   "source": [
    "## complex numbers"
   ]
  },
  {
   "cell_type": "code",
   "execution_count": 16,
   "metadata": {},
   "outputs": [],
   "source": [
    "def R2DComplex(theta):\n",
    "    c = np.cos(theta)\n",
    "    s = np.sin(theta)\n",
    "    return c+s*1j"
   ]
  },
  {
   "cell_type": "code",
   "execution_count": 17,
   "metadata": {},
   "outputs": [],
   "source": [
    "R1 = R2DComplex(np.pi/4)"
   ]
  },
  {
   "cell_type": "code",
   "execution_count": 18,
   "metadata": {},
   "outputs": [],
   "source": [
    "R1 = R2DComplex(np.pi/4)\n",
    "R2 = R2DComplex(np.pi/6)\n",
    "R3 = R2DComplex(np.pi/8)\n",
    "R0 = R2DComplex(0)"
   ]
  },
  {
   "cell_type": "code",
   "execution_count": 19,
   "metadata": {},
   "outputs": [
    {
     "data": {
      "text/plain": [
       "(-1.1102230246251565e-16+1.1102230246251565e-16j)"
      ]
     },
     "execution_count": 19,
     "metadata": {},
     "output_type": "execute_result"
    }
   ],
   "source": [
    "R1*R2 - R2DComplex(np.pi/4 + np.pi/6)"
   ]
  },
  {
   "cell_type": "code",
   "execution_count": 20,
   "metadata": {},
   "outputs": [
    {
     "data": {
      "text/plain": [
       "(5.551115123125783e-17+0j)"
      ]
     },
     "execution_count": 20,
     "metadata": {},
     "output_type": "execute_result"
    }
   ],
   "source": [
    "(R1*R2)*R3 - R1*(R2*R3)"
   ]
  },
  {
   "cell_type": "code",
   "execution_count": 21,
   "metadata": {},
   "outputs": [
    {
     "data": {
      "text/plain": [
       "0j"
      ]
     },
     "execution_count": 21,
     "metadata": {},
     "output_type": "execute_result"
    }
   ],
   "source": [
    "R0*R1-R1"
   ]
  },
  {
   "cell_type": "code",
   "execution_count": 22,
   "metadata": {},
   "outputs": [
    {
     "data": {
      "text/plain": [
       "(1.0000000000000002+0j)"
      ]
     },
     "execution_count": 22,
     "metadata": {},
     "output_type": "execute_result"
    }
   ],
   "source": [
    "Rn1 = R2DComplex(-np.pi/4)\n",
    "Rn1*R1"
   ]
  },
  {
   "cell_type": "code",
   "execution_count": 23,
   "metadata": {},
   "outputs": [],
   "source": [
    "def complexToPoint(c):\n",
    "    return np.array((c.real,c.imag))\n",
    "def vToComplex(v):\n",
    "    return v[0]+1j*v[1]"
   ]
  },
  {
   "cell_type": "code",
   "execution_count": 24,
   "metadata": {},
   "outputs": [
    {
     "name": "stdout",
     "output_type": "stream",
     "text": [
      "(5+5j)\n",
      "(0.7071067811865476+0.7071067811865476j)\n",
      "7.0710678118654755j\n",
      "[0.         7.07106781]\n"
     ]
    }
   ],
   "source": [
    "P_start =np.array([5,5])\n",
    "\n",
    "C_start = vToComplex(P_start)\n",
    "print(C_start)\n",
    "R1 = R2DComplex(np.pi/4)\n",
    "print(R1)\n",
    "C_end= R1*C_start\n",
    "print(C_end)\n",
    "\n",
    "P_end = complexToPoint(C_end)\n",
    "print(P_end)"
   ]
  },
  {
   "cell_type": "code",
   "execution_count": 25,
   "metadata": {},
   "outputs": [
    {
     "data": {
      "image/png": "[encoded data removed]",
      "text/plain": [
       "<Figure size 432x288 with 1 Axes>"
      ]
     },
     "metadata": {
      "needs_background": "light"
     },
     "output_type": "display_data"
    }
   ],
   "source": [
    "fig, ax = plt.subplots()\n",
    "ax.plot(P_start[0],P_start[1],\"ko\")\n",
    "ax.plot(P_end[0],P_end[1],\"bo\")\n",
    "#plt.axis('equal')\n",
    "ax.grid()\n",
    "ax.set_xlim(-10,10)\n",
    "ax.set_ylim(-10,10)\n",
    "ax.axhline(y=0, color='k')\n",
    "ax.axvline(x=0, color='k')\n",
    "plt.show()"
   ]
  },
  {
   "cell_type": "markdown",
   "metadata": {},
   "source": [
    "#### Complex numbers are a group and represent the same group as 2D rotation matricies"
   ]
  },
  {
   "cell_type": "markdown",
   "metadata": {},
   "source": [
    "## 3x3 matrixies represent 2D Vector addition"
   ]
  },
  {
   "cell_type": "code",
   "execution_count": 26,
   "metadata": {},
   "outputs": [],
   "source": [
    "def twoDVectorMatrix(A):\n",
    "    return np.array([[1,0,A[0]],\n",
    "                     [0,1,A[1]],\n",
    "                     [0,0,1]])\n",
    "\n",
    "def extract2DVector(M):\n",
    "    p1 = M[0:2,2]\n",
    "    return p1"
   ]
  },
  {
   "cell_type": "code",
   "execution_count": 27,
   "metadata": {},
   "outputs": [
    {
     "data": {
      "text/plain": [
       "array([[ 1,  0, 13],\n",
       "       [ 0,  1,  9],\n",
       "       [ 0,  0,  1]])"
      ]
     },
     "execution_count": 27,
     "metadata": {},
     "output_type": "execute_result"
    }
   ],
   "source": [
    "V1 = (10,5)\n",
    "V2 = (3,4)\n",
    "M1 = twoDVectorMatrix(V1)\n",
    "M2 = twoDVectorMatrix(V2)\n",
    "\n",
    "M1@M2"
   ]
  },
  {
   "cell_type": "code",
   "execution_count": 28,
   "metadata": {},
   "outputs": [
    {
     "name": "stdout",
     "output_type": "stream",
     "text": [
      "[13  9]\n"
     ]
    }
   ],
   "source": [
    "V3 = extract2DVector(M1@M2)\n",
    "print(V3)"
   ]
  },
  {
   "cell_type": "code",
   "execution_count": 29,
   "metadata": {},
   "outputs": [
    {
     "data": {
      "image/png": "[encoded data removed]",
      "text/plain": [
       "<Figure size 432x288 with 1 Axes>"
      ]
     },
     "metadata": {
      "needs_background": "light"
     },
     "output_type": "display_data"
    }
   ],
   "source": [
    "ax = plt.axes()\n",
    "ax.arrow(0, 0, V1[0], V1[1], head_width=0.5, head_length=1, fc='k', ec='k',length_includes_head=True)\n",
    "ax.arrow(V1[0], V1[1], V2[0], V2[1], head_width=0.5, head_length=1, fc='b', ec='b',length_includes_head=True)\n",
    "ax.arrow(0, 0, V3[0], V3[1], head_width=0.5, head_length=1, fc='g', ec='g',length_includes_head=True)\n",
    "plt.xlim(0,15)\n",
    "plt.ylim(0,15)\n",
    "plt.show()"
   ]
  },
  {
   "cell_type": "code",
   "execution_count": 30,
   "metadata": {},
   "outputs": [
    {
     "name": "stdout",
     "output_type": "stream",
     "text": [
      "[13, 9]\n"
     ]
    }
   ],
   "source": [
    "V1 = (10,5)\n",
    "V2 = (3,4)\n",
    "V3 = [0,0]\n",
    "for i in range(0,len(V2)):\n",
    "    V3[i] = V1[i]+V2[i]\n",
    "print(V3)"
   ]
  },
  {
   "cell_type": "code",
   "execution_count": 31,
   "metadata": {},
   "outputs": [
    {
     "name": "stdout",
     "output_type": "stream",
     "text": [
      "[13  9]\n"
     ]
    }
   ],
   "source": [
    "N1 = np.array(V1)\n",
    "N2 = np.array(V2)\n",
    "N3 = N1+N2\n",
    "print(N3)"
   ]
  },
  {
   "cell_type": "markdown",
   "metadata": {},
   "source": [
    "## SE(2)"
   ]
  },
  {
   "cell_type": "code",
   "execution_count": 32,
   "metadata": {},
   "outputs": [],
   "source": [
    "def se2(theta,D):\n",
    "    Rt = R(theta)\n",
    "    d = np.array(D).T.reshape((1,2)) \n",
    "    return np.block([\n",
    "                    [Rt , d.T],\n",
    "                    [0,0,   1]  \n",
    "                    ])\n"
   ]
  },
  {
   "cell_type": "code",
   "execution_count": 33,
   "metadata": {},
   "outputs": [
    {
     "data": {
      "text/plain": [
       "array([[ 0.70710678, -0.70710678, 10.        ],\n",
       "       [ 0.70710678,  0.70710678,  1.        ],\n",
       "       [ 0.        ,  0.        ,  1.        ]])"
      ]
     },
     "execution_count": 33,
     "metadata": {},
     "output_type": "execute_result"
    }
   ],
   "source": [
    "se2(np.pi/4,(10,1))"
   ]
  },
  {
   "cell_type": "code",
   "execution_count": 34,
   "metadata": {},
   "outputs": [
    {
     "data": {
      "text/plain": [
       "array([-5.,  5.])"
      ]
     },
     "execution_count": 34,
     "metadata": {},
     "output_type": "execute_result"
    }
   ],
   "source": [
    "P_start = twoDVectorMatrix((5,5))\n",
    "\n",
    "RandT1 = se2(np.pi/2,(0,0))\n",
    "\n",
    "endM = RandT1@P_start\n",
    "extract2DVector(endM)"
   ]
  },
  {
   "cell_type": "code",
   "execution_count": 35,
   "metadata": {},
   "outputs": [
    {
     "data": {
      "text/plain": [
       "array([5., 5.])"
      ]
     },
     "execution_count": 35,
     "metadata": {},
     "output_type": "execute_result"
    }
   ],
   "source": [
    "P_start = twoDVectorMatrix((5,5))\n",
    "\n",
    "RandT1 = se2(np.pi/2,(10,0))\n",
    "\n",
    "endM = RandT1@P_start\n",
    "extract2DVector(endM)"
   ]
  },
  {
   "cell_type": "code",
   "execution_count": 36,
   "metadata": {},
   "outputs": [
    {
     "data": {
      "text/plain": [
       "array([[  1,   0, -10],\n",
       "       [  0,   1,  -1],\n",
       "       [  0,   0,   1]])"
      ]
     },
     "execution_count": 36,
     "metadata": {},
     "output_type": "execute_result"
    }
   ],
   "source": [
    "twoDVectorMatrix(-np.array((10,1)))"
   ]
  },
  {
   "cell_type": "markdown",
   "metadata": {},
   "source": [
    "This does rotation then translation"
   ]
  },
  {
   "cell_type": "code",
   "execution_count": 37,
   "metadata": {},
   "outputs": [],
   "source": [
    "def rotateAroundPoint(theta,P):\n",
    "    Pn = np.array(P)\n",
    "    Tp = twoDVectorMatrix(Pn)\n",
    "    Tpinv = twoDVectorMatrix(-Pn)\n",
    "    R = se2(theta,[0,0])\n",
    "    return Tp@R@Tpinv\n"
   ]
  },
  {
   "cell_type": "code",
   "execution_count": 38,
   "metadata": {},
   "outputs": [
    {
     "data": {
      "text/plain": [
       "array([5., 5.])"
      ]
     },
     "execution_count": 38,
     "metadata": {},
     "output_type": "execute_result"
    }
   ],
   "source": [
    "P_start = twoDVectorMatrix((5,5))\n",
    "Rp = rotateAroundPoint(np.pi/4,(5,5))\n",
    "\n",
    "endM = Rp@P_start\n",
    "extract2DVector(endM)"
   ]
  },
  {
   "cell_type": "code",
   "execution_count": 39,
   "metadata": {},
   "outputs": [],
   "source": [
    "P_start = (5,5)\n",
    "M_start = twoDVectorMatrix(P_start)\n",
    "\n",
    "P_rot = (2.5,0)\n",
    "\n",
    "Rp = rotateAroundPoint(np.pi/4,P_rot)\n",
    "\n",
    "endM = Rp@M_start\n",
    "P_end = extract2DVector(endM)"
   ]
  },
  {
   "cell_type": "code",
   "execution_count": 40,
   "metadata": {},
   "outputs": [
    {
     "data": {
      "image/png": "[encoded data removed]",
      "text/plain": [
       "<Figure size 432x288 with 1 Axes>"
      ]
     },
     "metadata": {
      "needs_background": "light"
     },
     "output_type": "display_data"
    }
   ],
   "source": [
    "fig, ax = plt.subplots()\n",
    "ax.plot(P_start[0],P_start[1],\"ko\")\n",
    "ax.plot(P_rot[0],P_rot[1],\"go\")\n",
    "ax.plot(P_end[0],P_end[1],\"bo\")\n",
    "#plt.axis('equal')\n",
    "ax.grid()\n",
    "ax.set_xlim(-10,10)\n",
    "ax.set_ylim(-10,10)\n",
    "ax.axhline(y=0, color='k')\n",
    "ax.axvline(x=0, color='k')\n",
    "plt.show()"
   ]
  },
  {
   "cell_type": "markdown",
   "metadata": {},
   "source": [
    "# SO(3)\n",
    "\n",
    "## EulerAngles"
   ]
  },
  {
   "cell_type": "code",
   "execution_count": 41,
   "metadata": {},
   "outputs": [],
   "source": [
    "def Rx(theta):\n",
    "    c = np.cos(theta)\n",
    "    s = np.sin(theta)\n",
    "    rx = np.array( [ [1, 0,  0],\n",
    "                   [0, c, -s],\n",
    "                   [0, s,  c] ] )\n",
    "    return rx\n",
    "\n",
    "def Ry(theta):\n",
    "    c = np.cos(theta)\n",
    "    s = np.sin(theta)\n",
    "    ry = np.array( [ [c,  0,  s],\n",
    "                     [0,  1, 0],\n",
    "                     [-s, 0,  c] ] )\n",
    "    return ry\n",
    "\n",
    "def Rz(theta):\n",
    "    c = np.cos(theta)\n",
    "    s = np.sin(theta)\n",
    "    rz = np.array( [ [c, -s,  0],\n",
    "                     [s,  c,  0],\n",
    "                     [0,  0,  1] ] )\n",
    "    return rz"
   ]
  },
  {
   "cell_type": "code",
   "execution_count": 42,
   "metadata": {},
   "outputs": [
    {
     "name": "stdout",
     "output_type": "stream",
     "text": [
      "[[ 0.29516031 -0.88762627  0.35355339]\n",
      " [ 0.83635641  0.4189367   0.35355339]\n",
      " [-0.46193977  0.19134172  0.8660254 ]]\n"
     ]
    }
   ],
   "source": [
    "phi = np.pi/8\n",
    "theta = np.pi/6\n",
    "psi = np.pi/4\n",
    "\n",
    "def ZXpZpp(psi,theta,phi):\n",
    "    return Rz(psi)@Ry(theta)@Rz(phi)\n",
    "\n",
    "T = ZXpZpp(psi,theta,phi)\n",
    "print(T)"
   ]
  },
  {
   "cell_type": "markdown",
   "metadata": {},
   "source": [
    "## Axis Angle"
   ]
  },
  {
   "cell_type": "code",
   "execution_count": 48,
   "metadata": {},
   "outputs": [],
   "source": [
    "def Nx(n):\n",
    "    x = n[0]\n",
    "    y = n[1]\n",
    "    z = n[2]\n",
    "    nx = np.array( [ [0, -z,  y],\n",
    "                     [z,  0,  x],\n",
    "                     [-y,  x, 0] ] )\n",
    "    return nx\n",
    "\n",
    "def AxisAngle(n,theta):\n",
    "    mag = np.linalg.norm(n)\n",
    "    v = n/mag\n",
    "    s = np.sin(theta)\n",
    "    c = np.cos(theta)\n",
    "    NM = Nx(v)\n",
    "    r = np.eye(3)+s*NM+(1-c)*NM@NM\n",
    "    return r"
   ]
  },
  {
   "cell_type": "code",
   "execution_count": 50,
   "metadata": {},
   "outputs": [
    {
     "data": {
      "text/plain": [
       "array([[ 0.70710678, -0.70710678,  0.        ],\n",
       "       [ 0.70710678,  0.70710678,  0.        ],\n",
       "       [ 0.        ,  0.        ,  1.        ]])"
      ]
     },
     "execution_count": 50,
     "metadata": {},
     "output_type": "execute_result"
    }
   ],
   "source": [
    "AxisAngle([0,0,1],np.pi/4)"
   ]
  },
  {
   "cell_type": "markdown",
   "metadata": {},
   "source": [
    "# SE(3)"
   ]
  },
  {
   "cell_type": "code",
   "execution_count": 52,
   "metadata": {},
   "outputs": [],
   "source": [
    "def ZXZD(psi,theta,phi,D):\n",
    "    R = ZXpZpp(psi,theta,phi)\n",
    "    d = np.array(D).T.reshape((1,3)) \n",
    "    return np.block([\n",
    "                    [R , d.T],\n",
    "                    [0,0,0, 1]  \n",
    "                    ])"
   ]
  },
  {
   "cell_type": "code",
   "execution_count": 55,
   "metadata": {},
   "outputs": [
    {
     "data": {
      "text/plain": [
       "array([[ 0.70710678, -0.70710678,  0.        , 10.        ],\n",
       "       [ 0.70710678,  0.70710678,  0.        ,  1.        ],\n",
       "       [ 0.        ,  0.        ,  1.        ,  0.        ],\n",
       "       [ 0.        ,  0.        ,  0.        ,  1.        ]])"
      ]
     },
     "execution_count": 55,
     "metadata": {},
     "output_type": "execute_result"
    }
   ],
   "source": [
    "ZXZD(0,0,np.pi/4,(10,1,0))"
   ]
  },
  {
   "cell_type": "code",
   "execution_count": 58,
   "metadata": {},
   "outputs": [],
   "source": [
    "def AxisAngleDistance(n,theta,D):\n",
    "    R = AxisAngle(n,theta)\n",
    "    d = np.array(D).T.reshape((1,3)) \n",
    "    return np.block([\n",
    "                    [R , d.T],\n",
    "                    [0,0,0, 1]  \n",
    "                    ])"
   ]
  },
  {
   "cell_type": "code",
   "execution_count": 60,
   "metadata": {},
   "outputs": [
    {
     "data": {
      "text/plain": [
       "array([[ 0.70710678, -0.70710678,  0.        , 10.        ],\n",
       "       [ 0.70710678,  0.70710678,  0.        ,  1.        ],\n",
       "       [ 0.        ,  0.        ,  1.        ,  0.        ],\n",
       "       [ 0.        ,  0.        ,  0.        ,  1.        ]])"
      ]
     },
     "execution_count": 60,
     "metadata": {},
     "output_type": "execute_result"
    }
   ],
   "source": [
    "n = [0,0,1]\n",
    "theta = np.pi/4\n",
    "D = [10,1,0]\n",
    "AxisAngleDistance(n,theta,D)"
   ]
  },
  {
   "cell_type": "code",
   "execution_count": 96,
   "metadata": {},
   "outputs": [],
   "source": [
    "def eulerToAxisAngle(psi,theta,phi):\n",
    "    c1 = np.cos(psi/2)\n",
    "    s1 = np.sin(psi/2)\n",
    "    c2 = np.cos(theta/2)\n",
    "    s2 = np.sin(theta/2)\n",
    "    c3 = np.cos(phi/2)\n",
    "    s3 = np.sin(phi/2)\n",
    "    \n",
    "    angle = 2 * np.arccos(c1*c2*c3 - s1*s2*s3)\n",
    "    x = s1*s2*c3 + c1*c2*s3\n",
    "    y = s1*c2*c3 + c1*s2*s3\n",
    "    z = c1*s2*c3 - s1*c2*s3\n",
    "    \n",
    "    v = np.array([x,y,z])\n",
    "    mag = np.linalg.norm(v)\n",
    "    n = v/mag\n",
    "    return (n,angle)"
   ]
  },
  {
   "attachments": {
    "image.png": {
     "image/png": "[encoded data removed]"
    }
   },
   "cell_type": "markdown",
   "metadata": {},
   "source": [
    "![image.png](attachment:image.png)"
   ]
  },
  {
   "cell_type": "code",
   "execution_count": 99,
   "metadata": {},
   "outputs": [],
   "source": [
    "\n",
    "def AxisAngleToZYXEuler(n,angle):\n",
    "    s=np.sin(angle)\n",
    "    c=np.cos(angle)\n",
    "    t=1-c\n",
    "    mag = np.linalg.norm(n)\n",
    "    v = np.array(n)/mag\n",
    "    x = v[0]\n",
    "    y = v[1]\n",
    "    z = v[2]\n",
    "    if (x*y*t + z*s) > 0.998: # north pole singularity detected\n",
    "        heading = 2*np.arctan2(x*np.sin(angle/2),np.cos(angle/2))\n",
    "        attitude = np.pi/2;\n",
    "        bank = 0\n",
    "        return (heading,attitude,bank)\n",
    "\n",
    "    if (x*y*t + z*s) < -0.998:  # south pole singularity detected\n",
    "        heading = -2*np.arctan2(x*np.sin(angle/2),np.cos(angle/2))\n",
    "        attitude = -np.pi/2\n",
    "        bank = 0\n",
    "        return (heading,attitude,bank)\n",
    "                                 \n",
    "    heading = np.arctan2(y * s- x * z * t , 1 - (y*y+ z*z ) * t)\n",
    "    attitude = np.arcsin(x * y * t + z * s) \n",
    "    bank = np.arctan2(x * s - y * z * t , 1 - (x*x + z*z) * t)\n",
    "    return (heading,attitude,bank)"
   ]
  },
  {
   "cell_type": "code",
   "execution_count": 98,
   "metadata": {},
   "outputs": [
    {
     "data": {
      "text/plain": [
       "(array([1., 0., 0.]), 0.7853981633974484)"
      ]
     },
     "execution_count": 98,
     "metadata": {},
     "output_type": "execute_result"
    }
   ],
   "source": [
    "eulerToAxisAngle(0,0,np.pi/4)"
   ]
  },
  {
   "cell_type": "code",
   "execution_count": 100,
   "metadata": {},
   "outputs": [
    {
     "data": {
      "text/plain": [
       "(0.0, 0.7853981633974484, 0.0)"
      ]
     },
     "execution_count": 100,
     "metadata": {},
     "output_type": "execute_result"
    }
   ],
   "source": [
    "AxisAngleToZYXEuler((0,0,1),np.pi/4)"
   ]
  },
  {
   "cell_type": "code",
   "execution_count": 91,
   "metadata": {},
   "outputs": [
    {
     "data": {
      "text/plain": [
       "0.7853981633974483"
      ]
     },
     "execution_count": 91,
     "metadata": {},
     "output_type": "execute_result"
    }
   ],
   "source": [
    "np.pi/4"
   ]
  },
  {
   "cell_type": "code",
   "execution_count": 107,
   "metadata": {},
   "outputs": [],
   "source": []
  },
  {
   "cell_type": "code",
   "execution_count": 110,
   "metadata": {},
   "outputs": [
    {
     "data": {
      "text/plain": [
       "0 + 10*ε"
      ]
     },
     "execution_count": 110,
     "metadata": {},
     "output_type": "execute_result"
    }
   ],
   "source": []
  },
  {
   "cell_type": "code",
   "execution_count": null,
   "metadata": {},
   "outputs": [],
   "source": []
  }
 ],
 "metadata": {
  "kernelspec": {
   "display_name": "Python 3",
   "language": "python",
   "name": "python3"
  },
  "language_info": {
   "codemirror_mode": {
    "name": "ipython",
    "version": 3
   },
   "file_extension": ".py",
   "mimetype": "text/x-python",
   "name": "python",
   "nbconvert_exporter": "python",
   "pygments_lexer": "ipython3",
   "version": "3.7.3"
  }
 },
 "nbformat": 4,
 "nbformat_minor": 2
}
