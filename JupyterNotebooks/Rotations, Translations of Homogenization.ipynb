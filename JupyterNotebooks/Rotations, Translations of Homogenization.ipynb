{
 "cells": [
  {
   "attachments": {},
   "cell_type": "markdown",
   "metadata": {},
   "source": [
    "## Integers under (+) as a group\n",
    "\n",
    "\n",
    " - Closed: $n+m \\in Z$ for all n and m $\\in Z$ \n",
    " - Associative: (N+M)+R = N+(M+R)\n",
    " - Identity: 0 is the identity element because 0+N=N\n",
    " - Inverse: -N is the inverse of N because N+(-N) = 0\n",
    " \n"
   ]
  },
  {
   "cell_type": "markdown",
   "metadata": {},
   "source": [
    "## 2D - Rotations as 2x2 Matrices"
   ]
  },
  {
   "cell_type": "code",
   "execution_count": 1,
   "metadata": {},
   "outputs": [],
   "source": [
    "import numpy as np\n",
    "\n",
    "def R(theta):\n",
    "    \"Builds a 2D rotation matrix theta-> 2x2 numpy array\"\n",
    "    c = np.cos(theta)\n",
    "    s = np.sin(theta)\n",
    "    return np.array([[c,-s],\n",
    "                     [s,c]])"
   ]
  },
  {
   "cell_type": "code",
   "execution_count": 23,
   "metadata": {},
   "outputs": [
    {
     "name": "stdout",
     "output_type": "stream",
     "text": [
      "[[ 0.70710678 -0.70710678]\n",
      " [ 0.70710678  0.70710678]]\n",
      "[[ 0.8660254 -0.5      ]\n",
      " [ 0.5        0.8660254]]\n"
     ]
    },
    {
     "data": {
      "text/plain": [
       "array([[ 0.25881905, -0.96592583],\n",
       "       [ 0.96592583,  0.25881905]])"
      ]
     },
     "execution_count": 23,
     "metadata": {},
     "output_type": "execute_result"
    }
   ],
   "source": [
    "R1 = R(np.pi/4)\n",
    "R2 = R(np.pi/6)\n",
    "print(R1)\n",
    "print(R2)\n",
    "R1@R2"
   ]
  },
  {
   "cell_type": "code",
   "execution_count": 24,
   "metadata": {},
   "outputs": [
    {
     "data": {
      "text/plain": [
       "array([[ 0.25881905, -0.96592583],\n",
       "       [ 0.96592583,  0.25881905]])"
      ]
     },
     "execution_count": 24,
     "metadata": {},
     "output_type": "execute_result"
    }
   ],
   "source": [
    "R(np.pi*(1/4 +1/6))"
   ]
  },
  {
   "cell_type": "code",
   "execution_count": 25,
   "metadata": {},
   "outputs": [
    {
     "data": {
      "text/plain": [
       "array([[5.55111512e-17, 0.00000000e+00],\n",
       "       [0.00000000e+00, 5.55111512e-17]])"
      ]
     },
     "execution_count": 25,
     "metadata": {},
     "output_type": "execute_result"
    }
   ],
   "source": [
    "R3 = R(np.pi/8)\n",
    "\n",
    "(R1@R2)@R3 - R1@(R2@R3)"
   ]
  },
  {
   "cell_type": "code",
   "execution_count": 26,
   "metadata": {},
   "outputs": [
    {
     "data": {
      "text/plain": [
       "array([[0., 0.],\n",
       "       [0., 0.]])"
      ]
     },
     "execution_count": 26,
     "metadata": {},
     "output_type": "execute_result"
    }
   ],
   "source": [
    "R0 = R(0)\n",
    "R0@R1-R1"
   ]
  },
  {
   "cell_type": "code",
   "execution_count": 27,
   "metadata": {},
   "outputs": [
    {
     "data": {
      "text/plain": [
       "array([[ 1., -0.],\n",
       "       [ 0.,  1.]])"
      ]
     },
     "execution_count": 27,
     "metadata": {},
     "output_type": "execute_result"
    }
   ],
   "source": [
    "R0"
   ]
  },
  {
   "cell_type": "code",
   "execution_count": 28,
   "metadata": {},
   "outputs": [
    {
     "data": {
      "text/plain": [
       "array([[1., 0.],\n",
       "       [0., 1.]])"
      ]
     },
     "execution_count": 28,
     "metadata": {},
     "output_type": "execute_result"
    }
   ],
   "source": [
    "Rn1 = R(-np.pi/4)\n",
    "\n",
    "Rn1@R1"
   ]
  },
  {
   "cell_type": "markdown",
   "metadata": {},
   "source": [
    "### Its a group because\n",
    " - Closed: $R(\\theta_1)*R(\\theta_2) = R(\\theta_1+\\theta_2)$\n",
    " - Associative: $R(\\theta_1)* ( R(\\theta_2)*R(\\theta_3) ) = (R(\\theta_1)*R(\\theta_2))  *R(\\theta_3) $\n",
    " - Identity: 0 is the identity element because $*R(0)*R(\\theta_1)= I_2*R(\\theta_1)=R(\\theta_1) )$\n",
    " - Inverse: -N is the inverse of N because $R(\\theta_1)*R(-\\theta_1)= I_2 )$"
   ]
  },
  {
   "cell_type": "code",
   "execution_count": 34,
   "metadata": {},
   "outputs": [],
   "source": [
    "def R2DComplex(theta):\n",
    "    c = np.cos(theta)\n",
    "    s = np.sin(theta)\n",
    "    return c+s*1j"
   ]
  },
  {
   "cell_type": "code",
   "execution_count": 35,
   "metadata": {},
   "outputs": [],
   "source": [
    "R1 = R2DComplex(np.pi/4)"
   ]
  },
  {
   "cell_type": "code",
   "execution_count": 68,
   "metadata": {},
   "outputs": [],
   "source": [
    "R1 = R2DComplex(np.pi/4)\n",
    "R2 = R2DComplex(np.pi/6)\n",
    "R3 = R2DComplex(np.pi/8)\n",
    "R0 = R2DComplex(0)"
   ]
  },
  {
   "cell_type": "code",
   "execution_count": 40,
   "metadata": {},
   "outputs": [
    {
     "data": {
      "text/plain": [
       "(-1.1102230246251565e-16+1.1102230246251565e-16j)"
      ]
     },
     "execution_count": 40,
     "metadata": {},
     "output_type": "execute_result"
    }
   ],
   "source": [
    "R1*R2 - R2DComplex(np.pi/4 + np.pi/6)"
   ]
  },
  {
   "cell_type": "code",
   "execution_count": 39,
   "metadata": {},
   "outputs": [
    {
     "data": {
      "text/plain": [
       "(5.551115123125783e-17+0j)"
      ]
     },
     "execution_count": 39,
     "metadata": {},
     "output_type": "execute_result"
    }
   ],
   "source": [
    "(R1*R2)*R3 - R1*(R2*R3)"
   ]
  },
  {
   "cell_type": "code",
   "execution_count": 42,
   "metadata": {},
   "outputs": [
    {
     "data": {
      "text/plain": [
       "0j"
      ]
     },
     "execution_count": 42,
     "metadata": {},
     "output_type": "execute_result"
    }
   ],
   "source": [
    "R0*R1-R1"
   ]
  },
  {
   "cell_type": "code",
   "execution_count": 43,
   "metadata": {},
   "outputs": [
    {
     "data": {
      "text/plain": [
       "(1.0000000000000002+0j)"
      ]
     },
     "execution_count": 43,
     "metadata": {},
     "output_type": "execute_result"
    }
   ],
   "source": [
    "Rn1 = R2DComplex(-np.pi/4)\n",
    "Rn1*R1"
   ]
  },
  {
   "cell_type": "markdown",
   "metadata": {},
   "source": [
    "#### Complex numbers are a group and represent the same group as 2D rotation matricies"
   ]
  },
  {
   "cell_type": "markdown",
   "metadata": {},
   "source": [
    "## 3x3 matrixies represent 2D Vector addition"
   ]
  },
  {
   "cell_type": "code",
   "execution_count": 65,
   "metadata": {},
   "outputs": [],
   "source": [
    "def twoDVectorMatrix(A):\n",
    "    return np.array([[1,0,A[0]],\n",
    "                     [0,1,A[1]],\n",
    "                     [0,0,1]])\n",
    "\n",
    "def extract2DVector(M):\n",
    "    p1 = M[0:2,2]\n",
    "    return p1"
   ]
  },
  {
   "cell_type": "code",
   "execution_count": 66,
   "metadata": {},
   "outputs": [
    {
     "data": {
      "text/plain": [
       "array([[ 1,  0, 13],\n",
       "       [ 0,  1,  9],\n",
       "       [ 0,  0,  1]])"
      ]
     },
     "execution_count": 66,
     "metadata": {},
     "output_type": "execute_result"
    }
   ],
   "source": [
    "V1 = twoDVectorMatrix((10,5))\n",
    "V2 = twoDVectorMatrix((3,4))\n",
    "\n",
    "V1@V2"
   ]
  },
  {
   "cell_type": "code",
   "execution_count": 67,
   "metadata": {},
   "outputs": [
    {
     "data": {
      "text/plain": [
       "array([13,  9])"
      ]
     },
     "execution_count": 67,
     "metadata": {},
     "output_type": "execute_result"
    }
   ],
   "source": [
    "extract2DVector(V1@V2)"
   ]
  },
  {
   "cell_type": "markdown",
   "metadata": {},
   "source": [
    "## SE(2)"
   ]
  },
  {
   "cell_type": "code",
   "execution_count": 102,
   "metadata": {},
   "outputs": [],
   "source": [
    "def se2(theta,D):\n",
    "    Rt = R(theta)\n",
    "    d = np.array(D).T.reshape((1,2)) \n",
    "    return np.block([\n",
    "                    [Rt , d.T],\n",
    "                    [0,0,   1]  \n",
    "                    ])\n"
   ]
  },
  {
   "cell_type": "code",
   "execution_count": 103,
   "metadata": {},
   "outputs": [
    {
     "data": {
      "text/plain": [
       "array([[ 0.70710678, -0.70710678, 10.        ],\n",
       "       [ 0.70710678,  0.70710678,  1.        ],\n",
       "       [ 0.        ,  0.        ,  1.        ]])"
      ]
     },
     "execution_count": 103,
     "metadata": {},
     "output_type": "execute_result"
    }
   ],
   "source": [
    "se2(np.pi/4,(10,1))"
   ]
  },
  {
   "cell_type": "code",
   "execution_count": 107,
   "metadata": {},
   "outputs": [
    {
     "data": {
      "text/plain": [
       "array([-5.,  5.])"
      ]
     },
     "execution_count": 107,
     "metadata": {},
     "output_type": "execute_result"
    }
   ],
   "source": [
    "P_start = twoDVectorMatrix((5,5))\n",
    "\n",
    "RandT1 = se2(np.pi/2,(0,0))\n",
    "\n",
    "endM = RandT1@P_start\n",
    "extract2DVector(endM)"
   ]
  },
  {
   "cell_type": "code",
   "execution_count": null,
   "metadata": {},
   "outputs": [],
   "source": [
    "P_start = twoDVectorMatrix((5,5))\n",
    "\n",
    "RandT1 = se2(np.pi/2,(10,0))\n",
    "\n",
    "endM = RandT1@P_start\n",
    "extract2DVector(endM)"
   ]
  },
  {
   "cell_type": "markdown",
   "metadata": {},
   "source": [
    "This does rotation then translation"
   ]
  },
  {
   "cell_type": "code",
   "execution_count": null,
   "metadata": {},
   "outputs": [],
   "source": []
  }
 ],
 "metadata": {
  "kernelspec": {
   "display_name": "Python 3",
   "language": "python",
   "name": "python3"
  },
  "language_info": {
   "codemirror_mode": {
    "name": "ipython",
    "version": 3
   },
   "file_extension": ".py",
   "mimetype": "text/x-python",
   "name": "python",
   "nbconvert_exporter": "python",
   "pygments_lexer": "ipython3",
   "version": "3.7.3"
  }
 },
 "nbformat": 4,
 "nbformat_minor": 2
}
