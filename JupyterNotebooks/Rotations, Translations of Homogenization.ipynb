{
 "cells": [
  {
   "cell_type": "code",
   "execution_count": 1,
   "metadata": {},
   "outputs": [],
   "source": [
    "import numpy as np\n",
    "import matplotlib.pyplot as plt\n",
    "%matplotlib inline"
   ]
  },
  {
   "attachments": {},
   "cell_type": "markdown",
   "metadata": {},
   "source": [
    "## Integers under (+) as a group\n",
    "\n",
    "\n",
    " - Closed: $n+m \\in Z$ for all n and m $\\in Z$ \n",
    " - Associative: (N+M)+R = N+(M+R)\n",
    " - Identity: 0 is the identity element because 0+N=N\n",
    " - Inverse: -N is the inverse of N because N+(-N) = 0\n",
    " \n"
   ]
  },
  {
   "cell_type": "code",
   "execution_count": 2,
   "metadata": {},
   "outputs": [
    {
     "data": {
      "text/plain": [
       "int"
      ]
     },
     "execution_count": 2,
     "metadata": {},
     "output_type": "execute_result"
    }
   ],
   "source": [
    "type(1+5)"
   ]
  },
  {
   "cell_type": "code",
   "execution_count": 3,
   "metadata": {},
   "outputs": [
    {
     "data": {
      "text/plain": [
       "0"
      ]
     },
     "execution_count": 3,
     "metadata": {},
     "output_type": "execute_result"
    }
   ],
   "source": [
    "(1+5)+6 - (1+(5+6)) "
   ]
  },
  {
   "cell_type": "code",
   "execution_count": 4,
   "metadata": {},
   "outputs": [
    {
     "data": {
      "text/plain": [
       "5"
      ]
     },
     "execution_count": 4,
     "metadata": {},
     "output_type": "execute_result"
    }
   ],
   "source": [
    "5+0"
   ]
  },
  {
   "cell_type": "code",
   "execution_count": 5,
   "metadata": {},
   "outputs": [
    {
     "data": {
      "text/plain": [
       "0"
      ]
     },
     "execution_count": 5,
     "metadata": {},
     "output_type": "execute_result"
    }
   ],
   "source": [
    "5+(-5)"
   ]
  },
  {
   "cell_type": "markdown",
   "metadata": {},
   "source": [
    "## 2D - Rotations as 2x2 Matrices"
   ]
  },
  {
   "cell_type": "code",
   "execution_count": 6,
   "metadata": {},
   "outputs": [],
   "source": [
    "def R(theta):\n",
    "    \"Builds a 2D rotation matrix theta-> 2x2 numpy array\"\n",
    "    c = np.cos(theta)\n",
    "    s = np.sin(theta)\n",
    "    return np.array([[c,-s],\n",
    "                     [s,c]])"
   ]
  },
  {
   "cell_type": "code",
   "execution_count": 7,
   "metadata": {},
   "outputs": [
    {
     "name": "stdout",
     "output_type": "stream",
     "text": [
      "[[ 0.70710678 -0.70710678]\n",
      " [ 0.70710678  0.70710678]]\n",
      "[[ 0.8660254 -0.5      ]\n",
      " [ 0.5        0.8660254]]\n"
     ]
    },
    {
     "data": {
      "text/plain": [
       "array([[ 0.25881905, -0.96592583],\n",
       "       [ 0.96592583,  0.25881905]])"
      ]
     },
     "execution_count": 7,
     "metadata": {},
     "output_type": "execute_result"
    }
   ],
   "source": [
    "R1 = R(np.pi/4)\n",
    "R2 = R(np.pi/6)\n",
    "print(R1)\n",
    "print(R2)\n",
    "R1@R2"
   ]
  },
  {
   "cell_type": "code",
   "execution_count": 8,
   "metadata": {},
   "outputs": [
    {
     "data": {
      "text/plain": [
       "array([[ 0.25881905, -0.96592583],\n",
       "       [ 0.96592583,  0.25881905]])"
      ]
     },
     "execution_count": 8,
     "metadata": {},
     "output_type": "execute_result"
    }
   ],
   "source": [
    "R(np.pi*(1/4 +1/6))"
   ]
  },
  {
   "cell_type": "code",
   "execution_count": 9,
   "metadata": {},
   "outputs": [
    {
     "data": {
      "text/plain": [
       "array([[5.55111512e-17, 0.00000000e+00],\n",
       "       [0.00000000e+00, 5.55111512e-17]])"
      ]
     },
     "execution_count": 9,
     "metadata": {},
     "output_type": "execute_result"
    }
   ],
   "source": [
    "R3 = R(np.pi/8)\n",
    "\n",
    "(R1@R2)@R3 - R1@(R2@R3)"
   ]
  },
  {
   "cell_type": "code",
   "execution_count": 10,
   "metadata": {},
   "outputs": [
    {
     "data": {
      "text/plain": [
       "array([[0., 0.],\n",
       "       [0., 0.]])"
      ]
     },
     "execution_count": 10,
     "metadata": {},
     "output_type": "execute_result"
    }
   ],
   "source": [
    "R0 = R(0)\n",
    "R0@R1-R1"
   ]
  },
  {
   "cell_type": "code",
   "execution_count": 11,
   "metadata": {},
   "outputs": [
    {
     "data": {
      "text/plain": [
       "array([[ 1., -0.],\n",
       "       [ 0.,  1.]])"
      ]
     },
     "execution_count": 11,
     "metadata": {},
     "output_type": "execute_result"
    }
   ],
   "source": [
    "R0"
   ]
  },
  {
   "cell_type": "code",
   "execution_count": 12,
   "metadata": {},
   "outputs": [
    {
     "data": {
      "text/plain": [
       "array([[1., 0.],\n",
       "       [0., 1.]])"
      ]
     },
     "execution_count": 12,
     "metadata": {},
     "output_type": "execute_result"
    }
   ],
   "source": [
    "Rn1 = R(-np.pi/4)\n",
    "\n",
    "Rn1@R1"
   ]
  },
  {
   "cell_type": "markdown",
   "metadata": {},
   "source": [
    "### Its a group because\n",
    " - Closed: $R(\\theta_1)*R(\\theta_2) = R(\\theta_1+\\theta_2)$\n",
    " - Associative: $R(\\theta_1)* ( R(\\theta_2)*R(\\theta_3) ) = (R(\\theta_1)*R(\\theta_2))  *R(\\theta_3) $\n",
    " - Identity: 0 is the identity element because $*R(0)*R(\\theta_1)= I_2*R(\\theta_1)=R(\\theta_1) )$\n",
    " - Inverse: -N is the inverse of N because $R(\\theta_1)*R(-\\theta_1)= I_2 )$"
   ]
  },
  {
   "cell_type": "code",
   "execution_count": 13,
   "metadata": {},
   "outputs": [],
   "source": [
    "P_start = np.array([5,5])"
   ]
  },
  {
   "cell_type": "code",
   "execution_count": 14,
   "metadata": {},
   "outputs": [],
   "source": [
    "P_end = R1@P_start"
   ]
  },
  {
   "cell_type": "code",
   "execution_count": 15,
   "metadata": {},
   "outputs": [
    {
     "data": {
      "image/png": "[encoded data removed]",
      "text/plain": [
       "<Figure size 432x288 with 1 Axes>"
      ]
     },
     "metadata": {
      "needs_background": "light"
     },
     "output_type": "display_data"
    }
   ],
   "source": [
    "fig, ax = plt.subplots()\n",
    "ax.plot(P_start[0],P_start[1],\"ko\")\n",
    "ax.plot(P_end[0],P_end[1],\"bo\")\n",
    "#plt.axis('equal')\n",
    "ax.grid()\n",
    "ax.set_xlim(-10,10)\n",
    "ax.set_ylim(-10,10)\n",
    "ax.axhline(y=0, color='k')\n",
    "ax.axvline(x=0, color='k')\n",
    "plt.show()"
   ]
  },
  {
   "cell_type": "markdown",
   "metadata": {},
   "source": [
    "## complex numbers"
   ]
  },
  {
   "cell_type": "code",
   "execution_count": 17,
   "metadata": {},
   "outputs": [],
   "source": [
    "def R2DComplex(theta):\n",
    "    c = np.cos(theta)\n",
    "    s = np.sin(theta)\n",
    "    return c+s*1j"
   ]
  },
  {
   "cell_type": "code",
   "execution_count": 18,
   "metadata": {},
   "outputs": [],
   "source": [
    "R1 = R2DComplex(np.pi/4)"
   ]
  },
  {
   "cell_type": "code",
   "execution_count": 19,
   "metadata": {},
   "outputs": [],
   "source": [
    "R1 = R2DComplex(np.pi/4)\n",
    "R2 = R2DComplex(np.pi/6)\n",
    "R3 = R2DComplex(np.pi/8)\n",
    "R0 = R2DComplex(0)"
   ]
  },
  {
   "cell_type": "code",
   "execution_count": 20,
   "metadata": {},
   "outputs": [
    {
     "data": {
      "text/plain": [
       "(-1.1102230246251565e-16+1.1102230246251565e-16j)"
      ]
     },
     "execution_count": 20,
     "metadata": {},
     "output_type": "execute_result"
    }
   ],
   "source": [
    "R1*R2 - R2DComplex(np.pi/4 + np.pi/6)"
   ]
  },
  {
   "cell_type": "code",
   "execution_count": 21,
   "metadata": {},
   "outputs": [
    {
     "data": {
      "text/plain": [
       "(5.551115123125783e-17+0j)"
      ]
     },
     "execution_count": 21,
     "metadata": {},
     "output_type": "execute_result"
    }
   ],
   "source": [
    "(R1*R2)*R3 - R1*(R2*R3)"
   ]
  },
  {
   "cell_type": "code",
   "execution_count": 22,
   "metadata": {},
   "outputs": [
    {
     "data": {
      "text/plain": [
       "0j"
      ]
     },
     "execution_count": 22,
     "metadata": {},
     "output_type": "execute_result"
    }
   ],
   "source": [
    "R0*R1-R1"
   ]
  },
  {
   "cell_type": "code",
   "execution_count": 23,
   "metadata": {},
   "outputs": [
    {
     "data": {
      "text/plain": [
       "(1.0000000000000002+0j)"
      ]
     },
     "execution_count": 23,
     "metadata": {},
     "output_type": "execute_result"
    }
   ],
   "source": [
    "Rn1 = R2DComplex(-np.pi/4)\n",
    "Rn1*R1"
   ]
  },
  {
   "cell_type": "code",
   "execution_count": 24,
   "metadata": {},
   "outputs": [],
   "source": [
    "def complexToPoint(c):\n",
    "    return np.array((c.real,c.imag))\n",
    "def vToComplex(v):\n",
    "    return v[0]+1j*v[1]"
   ]
  },
  {
   "cell_type": "code",
   "execution_count": 25,
   "metadata": {},
   "outputs": [
    {
     "name": "stdout",
     "output_type": "stream",
     "text": [
      "(5+5j)\n",
      "(0.7071067811865476+0.7071067811865476j)\n",
      "7.0710678118654755j\n",
      "[0.         7.07106781]\n"
     ]
    }
   ],
   "source": [
    "P_start =np.array([5,5])\n",
    "\n",
    "C_start = vToComplex(P_start)\n",
    "print(C_start)\n",
    "R1 = R2DComplex(np.pi/4)\n",
    "print(R1)\n",
    "C_end= R1*C_start\n",
    "print(C_end)\n",
    "\n",
    "P_end = complexToPoint(C_end)\n",
    "print(P_end)"
   ]
  },
  {
   "cell_type": "code",
   "execution_count": 26,
   "metadata": {},
   "outputs": [
    {
     "data": {
      "image/png": "[encoded data removed]",
      "text/plain": [
       "<Figure size 432x288 with 1 Axes>"
      ]
     },
     "metadata": {
      "needs_background": "light"
     },
     "output_type": "display_data"
    }
   ],
   "source": [
    "fig, ax = plt.subplots()\n",
    "ax.plot(P_start[0],P_start[1],\"ko\")\n",
    "ax.plot(P_end[0],P_end[1],\"bo\")\n",
    "#plt.axis('equal')\n",
    "ax.grid()\n",
    "ax.set_xlim(-10,10)\n",
    "ax.set_ylim(-10,10)\n",
    "ax.axhline(y=0, color='k')\n",
    "ax.axvline(x=0, color='k')\n",
    "plt.show()"
   ]
  },
  {
   "cell_type": "markdown",
   "metadata": {},
   "source": [
    "#### Complex numbers are a group and represent the same group as 2D rotation matricies"
   ]
  },
  {
   "cell_type": "markdown",
   "metadata": {},
   "source": [
    "## 3x3 matrixies represent 2D Vector addition"
   ]
  },
  {
   "cell_type": "code",
   "execution_count": 27,
   "metadata": {},
   "outputs": [],
   "source": [
    "def twoDVectorMatrix(A):\n",
    "    return np.array([[1,0,A[0]],\n",
    "                     [0,1,A[1]],\n",
    "                     [0,0,1]])\n",
    "\n",
    "def extract2DVector(M):\n",
    "    p1 = M[0:2,2]\n",
    "    return p1"
   ]
  },
  {
   "cell_type": "code",
   "execution_count": 28,
   "metadata": {},
   "outputs": [
    {
     "data": {
      "text/plain": [
       "array([[ 1,  0, 13],\n",
       "       [ 0,  1,  9],\n",
       "       [ 0,  0,  1]])"
      ]
     },
     "execution_count": 28,
     "metadata": {},
     "output_type": "execute_result"
    }
   ],
   "source": [
    "V1 = (10,5)\n",
    "V2 = (3,4)\n",
    "M1 = twoDVectorMatrix(V1)\n",
    "M2 = twoDVectorMatrix(V2)\n",
    "\n",
    "M1@M2"
   ]
  },
  {
   "cell_type": "code",
   "execution_count": 29,
   "metadata": {},
   "outputs": [
    {
     "name": "stdout",
     "output_type": "stream",
     "text": [
      "[13  9]\n"
     ]
    }
   ],
   "source": [
    "V3 = extract2DVector(M1@M2)\n",
    "print(V3)"
   ]
  },
  {
   "cell_type": "code",
   "execution_count": 30,
   "metadata": {},
   "outputs": [
    {
     "data": {
      "image/png": "[encoded data removed]",
      "text/plain": [
       "<Figure size 432x288 with 1 Axes>"
      ]
     },
     "metadata": {
      "needs_background": "light"
     },
     "output_type": "display_data"
    }
   ],
   "source": [
    "ax = plt.axes()\n",
    "ax.arrow(0, 0, V1[0], V1[1], head_width=0.5, head_length=1, fc='k', ec='k',length_includes_head=True)\n",
    "ax.arrow(V1[0], V1[1], V2[0], V2[1], head_width=0.5, head_length=1, fc='b', ec='b',length_includes_head=True)\n",
    "ax.arrow(0, 0, V3[0], V3[1], head_width=0.5, head_length=1, fc='g', ec='g',length_includes_head=True)\n",
    "plt.xlim(0,15)\n",
    "plt.ylim(0,15)\n",
    "plt.show()"
   ]
  },
  {
   "cell_type": "code",
   "execution_count": 31,
   "metadata": {},
   "outputs": [
    {
     "name": "stdout",
     "output_type": "stream",
     "text": [
      "[13, 9]\n"
     ]
    }
   ],
   "source": [
    "V1 = (10,5)\n",
    "V2 = (3,4)\n",
    "V3 = [0,0]\n",
    "for i in range(0,len(V2)):\n",
    "    V3[i] = V1[i]+V2[i]\n",
    "print(V3)"
   ]
  },
  {
   "cell_type": "code",
   "execution_count": 39,
   "metadata": {},
   "outputs": [
    {
     "name": "stdout",
     "output_type": "stream",
     "text": [
      "[13  9]\n"
     ]
    }
   ],
   "source": [
    "N1 = np.array(V1)\n",
    "N2 = np.array(V2)\n",
    "N3 = N1+N2\n",
    "print(N3)"
   ]
  },
  {
   "cell_type": "markdown",
   "metadata": {},
   "source": [
    "## SE(2)"
   ]
  },
  {
   "cell_type": "code",
   "execution_count": 46,
   "metadata": {},
   "outputs": [],
   "source": [
    "def se2(theta,D):\n",
    "    Rt = R(theta)\n",
    "    d = np.array(D).T.reshape((1,2)) \n",
    "    return np.block([\n",
    "                    [Rt , d.T],\n",
    "                    [0,0,   1]  \n",
    "                    ])\n"
   ]
  },
  {
   "cell_type": "code",
   "execution_count": 47,
   "metadata": {},
   "outputs": [
    {
     "data": {
      "text/plain": [
       "array([[ 0.70710678, -0.70710678, 10.        ],\n",
       "       [ 0.70710678,  0.70710678,  1.        ],\n",
       "       [ 0.        ,  0.        ,  1.        ]])"
      ]
     },
     "execution_count": 47,
     "metadata": {},
     "output_type": "execute_result"
    }
   ],
   "source": [
    "se2(np.pi/4,(10,1))"
   ]
  },
  {
   "cell_type": "code",
   "execution_count": 42,
   "metadata": {},
   "outputs": [
    {
     "data": {
      "text/plain": [
       "array([-5.,  5.])"
      ]
     },
     "execution_count": 42,
     "metadata": {},
     "output_type": "execute_result"
    }
   ],
   "source": [
    "P_start = twoDVectorMatrix((5,5))\n",
    "\n",
    "RandT1 = se2(np.pi/2,(0,0))\n",
    "\n",
    "endM = RandT1@P_start\n",
    "extract2DVector(endM)"
   ]
  },
  {
   "cell_type": "code",
   "execution_count": 43,
   "metadata": {},
   "outputs": [
    {
     "data": {
      "text/plain": [
       "array([5., 5.])"
      ]
     },
     "execution_count": 43,
     "metadata": {},
     "output_type": "execute_result"
    }
   ],
   "source": [
    "P_start = twoDVectorMatrix((5,5))\n",
    "\n",
    "RandT1 = se2(np.pi/2,(10,0))\n",
    "\n",
    "endM = RandT1@P_start\n",
    "extract2DVector(endM)"
   ]
  },
  {
   "cell_type": "code",
   "execution_count": 44,
   "metadata": {},
   "outputs": [
    {
     "data": {
      "text/plain": [
       "array([[  1,   0, -10],\n",
       "       [  0,   1,  -1],\n",
       "       [  0,   0,   1]])"
      ]
     },
     "execution_count": 44,
     "metadata": {},
     "output_type": "execute_result"
    }
   ],
   "source": [
    "twoDVectorMatrix(-np.array((10,1)))"
   ]
  },
  {
   "cell_type": "markdown",
   "metadata": {},
   "source": [
    "This does rotation then translation"
   ]
  },
  {
   "cell_type": "code",
   "execution_count": 49,
   "metadata": {},
   "outputs": [],
   "source": [
    "def rotateAroundPoint(theta,P):\n",
    "    Pn = np.array(P)\n",
    "    Tp = twoDVectorMatrix(Pn)\n",
    "    Tpinv = twoDVectorMatrix(-Pn)\n",
    "    R = se2(theta,[0,0])\n",
    "    return Tp@R@Tpinv\n"
   ]
  },
  {
   "cell_type": "code",
   "execution_count": 50,
   "metadata": {},
   "outputs": [
    {
     "data": {
      "text/plain": [
       "array([5., 5.])"
      ]
     },
     "execution_count": 50,
     "metadata": {},
     "output_type": "execute_result"
    }
   ],
   "source": [
    "P_start = twoDVectorMatrix((5,5))\n",
    "Rp = rotateAroundPoint(np.pi/4,(5,5))\n",
    "\n",
    "endM = Rp@P_start\n",
    "extract2DVector(endM)"
   ]
  },
  {
   "cell_type": "code",
   "execution_count": 51,
   "metadata": {},
   "outputs": [],
   "source": [
    "P_start = (5,5)\n",
    "M_start = twoDVectorMatrix(P_start)\n",
    "\n",
    "P_rot = (2.5,0)\n",
    "\n",
    "Rp = rotateAroundPoint(np.pi/4,P_rot)\n",
    "\n",
    "endM = Rp@M_start\n",
    "P_end = extract2DVector(endM)"
   ]
  },
  {
   "cell_type": "code",
   "execution_count": 52,
   "metadata": {},
   "outputs": [
    {
     "data": {
      "image/png": "[encoded data removed]",
      "text/plain": [
       "<Figure size 432x288 with 1 Axes>"
      ]
     },
     "metadata": {
      "needs_background": "light"
     },
     "output_type": "display_data"
    }
   ],
   "source": [
    "fig, ax = plt.subplots()\n",
    "ax.plot(P_start[0],P_start[1],\"ko\")\n",
    "ax.plot(P_rot[0],P_rot[1],\"go\")\n",
    "ax.plot(P_end[0],P_end[1],\"bo\")\n",
    "#plt.axis('equal')\n",
    "ax.grid()\n",
    "ax.set_xlim(-10,10)\n",
    "ax.set_ylim(-10,10)\n",
    "ax.axhline(y=0, color='k')\n",
    "ax.axvline(x=0, color='k')\n",
    "plt.show()"
   ]
  },
  {
   "cell_type": "code",
   "execution_count": null,
   "metadata": {},
   "outputs": [],
   "source": []
  }
 ],
 "metadata": {
  "kernelspec": {
   "display_name": "Python 3",
   "language": "python",
   "name": "python3"
  },
  "language_info": {
   "codemirror_mode": {
    "name": "ipython",
    "version": 3
   },
   "file_extension": ".py",
   "mimetype": "text/x-python",
   "name": "python",
   "nbconvert_exporter": "python",
   "pygments_lexer": "ipython3",
   "version": "3.7.3"
  }
 },
 "nbformat": 4,
 "nbformat_minor": 2
}
